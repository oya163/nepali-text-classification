{
 "cells": [
  {
   "cell_type": "markdown",
   "metadata": {},
   "source": [
    "# DATASET PREPARATION"
   ]
  },
  {
   "cell_type": "code",
   "execution_count": 2,
   "metadata": {},
   "outputs": [],
   "source": [
    "'''\n",
    "    Nepali NLP preprocessing\n",
    "    Removing punctuation/symbols/digits\n",
    "    except '- and :'\n",
    "    \n",
    "    Coverting the records into [label, data]\n",
    "    \n",
    "    # Removing BOM, newline, tab characters from dataset\n",
    "    # Remove punctation and nepali digits except '-:'\n",
    "    # P - any kinds of punctuation\n",
    "    # N - any kinds of number\n",
    "    # S - any kinds of symbol\n",
    "    # Cf - Other, Format (ZERO WIDTH SPACE, ZERO WIDTH NON-JOINER)\n",
    "    # Cn - Not assigned, Format\n",
    "    # Cc - Other, Control category (tab)\n",
    "    # Pd - Punctuation dash (hyphen-minus)\n",
    "    \n",
    "\n",
    "    # References\n",
    "        - https://www.fileformat.info/info/unicode/category/index.htm\n",
    "        - http://www.nepalinlp.com/pre-processing/\n",
    "    \n",
    "'''\n",
    "\n",
    "import os\n",
    "import sys\n",
    "import time\n",
    "import re\n",
    "import unicodecsv as csv\n",
    "import unicodedata as un\n",
    "\n",
    "in_path = './data/raw_backup/'\n",
    "out_path= './data/raw/raw.csv'\n",
    "\n",
    "head = 'label', 'data'\n",
    "\n",
    "counter = 0\n",
    "error_counter = 0\n",
    "\n",
    "# Start timer\n",
    "start_time = time.time()\n",
    "label = -1\n",
    "\n",
    "# Prepare dictionary of necessary unicode\n",
    "# Thanks to https://stackoverflow.com/a/11066687/4595807\n",
    "# We want to protect '-'\n",
    "# HYPHEN-MINUS = UNICODE DECIMAL VALUE = 45\n",
    "table = dict.fromkeys(i for i in range(sys.maxunicode) \n",
    "                        if un.category(chr(i)).startswith(('P','N','S','Cf','Cn','Cc'))\n",
    "                        and i != 45)\n",
    "#                         and not un.category(chr(i)).startswith('Pd'))\n",
    "\n",
    "with open(out_path, 'wb') as out_file:\n",
    "    writer = csv.writer(out_file, encoding='utf-8')\n",
    "    writer.writerow(head)\n",
    "    \n",
    "    for root, dirs, files in os.walk(in_path, topdown=True):\n",
    "        for name in files:\n",
    "            curr_file = os.path.join(root, name)\n",
    "            try:\n",
    "                # Read current file and remove BOM and newline characters\n",
    "                # uf03c and uf03c are invalid unicode characters and don't have any category\n",
    "                # so had to remove manually\n",
    "                fp = open(curr_file, encoding='utf-8-sig').read()\n",
    "                fp = fp.translate(table)\n",
    "                \n",
    "                # Remove extra spaces and hyphens but does not remove that's between words आ-आफ्नो\n",
    "                # Conditional removal of HYPHEN-MINUS\n",
    "                # Looks for space before/after hyphen, if present remove it\n",
    "                fp = re.sub(r\"(?<!\\w)[-]|[-](?!\\w)\",'',fp)\n",
    "                \n",
    "                # Normalize the unicode so that\n",
    "                # canonical-equivalent ones will also have precisely the same binary representation\n",
    "                final_msg = label, un.normalize('NFC', fp)\n",
    "                \n",
    "                # Write into CSV file format - label, data\n",
    "                writer.writerow(final_msg)\n",
    "\n",
    "                # Counter setup to count file processed\n",
    "                counter = counter + 1\n",
    "\n",
    "            except IOError as e:\n",
    "                print (\"I/O error({0}): {1}\".format(e.errno, e.strerror))\n",
    "                error_counter = error_counter + 1\n",
    "                \n",
    "        label += 1\n",
    "\n",
    "out_file.close()\n",
    "    \n",
    "end_time = time.time()\n",
    "\n",
    "print('Number of files processed: ',counter)\n",
    "print('Number of files error: ',error_counter)\n",
    "\n",
    "print('Time taken in seconds:',(end_time - start_time))"
   ]
  },
  {
   "cell_type": "code",
   "execution_count": 60,
   "metadata": {},
   "outputs": [
    {
     "name": "stdout",
     "output_type": "stream",
     "text": [
      "Number of files processed:  14125\n",
      "Number of files error:  0\n",
      "Time taken in seconds: 5.093601942062378\n"
     ]
    }
   ],
   "source": [
    "'''\n",
    "    Main description:\n",
    "        Create a file to be used in dataturk purpose\n",
    "        Collect all the files from raw folder hierarchy\n",
    "        Break down into sentences\n",
    "        Shuffle it randomly\n",
    "        Create a file of required number of samples\n",
    "'''\n",
    "\n",
    "import os\n",
    "import sys\n",
    "import time\n",
    "\n",
    "in_path = '../data/raw_backup/'\n",
    "out_path= '../data/raw/raw_unproc.csv'\n",
    "\n",
    "counter = 0\n",
    "error_counter = 0\n",
    "\n",
    "# Start timer\n",
    "start_time = time.time()\n",
    "\n",
    "lines = []\n",
    "number_of_sample= 5000\n",
    "\n",
    "for root, dirs, files in os.walk(in_path, topdown=True):\n",
    "    for name in files:\n",
    "        curr_file = os.path.join(root, name)\n",
    "        try:\n",
    "            fp = open(curr_file, encoding='utf-8-sig').read()\n",
    "            fp = fp.replace('\\n', '').replace('\\t','').split()\n",
    "            fp = ' '.join(fp).replace('।', '।\\n')\n",
    "            fp = fp.splitlines()\n",
    "            for each_line in fp:\n",
    "                length = len(each_line.split())\n",
    "                # This condition is to remove sentence like ﻿१४ मंसिर, काठमाडौं ।\n",
    "                # It is common on the starting of news document\n",
    "                if length > 4:\n",
    "                    final_data = each_line.lstrip()+'\\n'\n",
    "                    lines.append(final_data)\n",
    "\n",
    "\n",
    "            # Counter setup to count file processed\n",
    "            counter = counter + 1\n",
    "\n",
    "        except IOError as e:\n",
    "            print (\"I/O error({0}): {1}\".format(e.errno, e.strerror))\n",
    "            error_counter = error_counter + 1\n",
    "            \n",
    "\n",
    "with open(out_path, 'w', encoding='utf-8') as out_file:    \n",
    "    lines = random.sample(lines, number_of_sample)\n",
    "    for line in lines:\n",
    "        out_file.write(line)\n",
    "    \n",
    "    \n",
    "out_file.close()\n",
    "    \n",
    "end_time = time.time()\n",
    "\n",
    "print('Number of files processed: ',counter)\n",
    "print('Number of files error: ',error_counter)\n",
    "\n",
    "print('Time taken in seconds:',(end_time - start_time))"
   ]
  },
  {
   "cell_type": "code",
   "execution_count": 4,
   "metadata": {},
   "outputs": [
    {
     "name": "stdout",
     "output_type": "stream",
     "text": [
      "-:HYPHEN-MINUS\n",
      "!:EXCLAMATION MARK\n",
      "\":QUOTATION MARK\n",
      "#:NUMBER SIGN\n",
      "$:DOLLAR SIGN\n",
      "%:PERCENT SIGN\n",
      "&:AMPERSAND\n",
      "':APOSTROPHE\n",
      "(:LEFT PARENTHESIS\n",
      "):RIGHT PARENTHESIS\n",
      "*:ASTERISK\n",
      "+:PLUS SIGN\n",
      ",:COMMA\n",
      ".:FULL STOP\n",
      "/:SOLIDUS\n",
      "::COLON\n",
      ";:SEMICOLON\n",
      "<:LESS-THAN SIGN\n",
      "=:EQUALS SIGN\n",
      ">:GREATER-THAN SIGN\n",
      "?:QUESTION MARK\n",
      "@:COMMERCIAL AT\n",
      "[:LEFT SQUARE BRACKET\n",
      "\\:REVERSE SOLIDUS\n",
      "]:RIGHT SQUARE BRACKET\n",
      "^:CIRCUMFLEX ACCENT\n",
      "_:LOW LINE\n",
      "`:GRAVE ACCENT\n",
      "{:LEFT CURLY BRACKET\n",
      "}:RIGHT CURLY BRACKET\n",
      "~:TILDE\n",
      "१:DEVANAGARI DIGIT ONE\n",
      "२:DEVANAGARI DIGIT TWO\n",
      "३:DEVANAGARI DIGIT THREE\n",
      "४:DEVANAGARI DIGIT FOUR\n",
      "५:DEVANAGARI DIGIT FIVE\n",
      "६:DEVANAGARI DIGIT SIX\n",
      "७:DEVANAGARI DIGIT SEVEN\n",
      "८:DEVANAGARI DIGIT EIGHT\n",
      "९:DEVANAGARI DIGIT NINE\n",
      "०:DEVANAGARI DIGIT ZERO\n"
     ]
    }
   ],
   "source": [
    "'''\n",
    "    How to find unicodedata category of all punctuation\n",
    "'''\n",
    "\n",
    "tbl = \"-!\\\"#$%&'()*+,./:;<=>?@[\\]^_`{}~१२३४५६७८९०\"\n",
    "\n",
    "exclude_list = [\"COLON\",\"HYPHEN-MINUS\"]\n",
    "\n",
    "for each in tbl:\n",
    "    print(each + \":\" + un.name(each))"
   ]
  },
  {
   "cell_type": "markdown",
   "metadata": {},
   "source": [
    "# CORPUS PREPARATION"
   ]
  },
  {
   "cell_type": "code",
   "execution_count": 1,
   "metadata": {},
   "outputs": [
    {
     "name": "stdout",
     "output_type": "stream",
     "text": [
      "Number of files processed:  14125\n",
      "Number of files removed:  0\n",
      "Time taken to create corpus (seconds): 9.28983211517334\n"
     ]
    }
   ],
   "source": [
    "'''\n",
    "    Removing UTF-8-BOM completely\n",
    "    and preparing for corpus reader\n",
    "    \n",
    "    Description:\n",
    "    Walks along every file inside subdirectories\n",
    "    Read and removes UTF-8-BOM and new line from every file\n",
    "    Write the file content in UTF-8 encode\n",
    "    If the file is not encodeable, then removes it\n",
    "    \n",
    "    Store all the file content into a txt file\n",
    "    Naming based on its parent directory\n",
    "    \n",
    "    Author - Oyesh Mann Singh\n",
    "    Date - 10/25/2018\n",
    "    \n",
    "    Dataset folder structure:\n",
    "        ./raw\n",
    "            /Auto\n",
    "                /0.txt\n",
    "                /1.txt\n",
    "            /Blog\n",
    "                /0.txt\n",
    "                1.txt\n",
    "            /Sports\n",
    "                /0.txt\n",
    "                /1.txt\n",
    "            \n",
    "    Dataset:\n",
    "    https://github.com/sndsabin/Nepali-News-Classifier\n",
    "'''\n",
    "\n",
    "import nltk\n",
    "import sys\n",
    "import unicodedata\n",
    "import re\n",
    "import string\n",
    "import os\n",
    "import time\n",
    "from pathlib import Path\n",
    "\n",
    "in_path = './data/raw_backup/'\n",
    "out_path = './data/corpus/'\n",
    "\n",
    "counter = 0\n",
    "del_counter = 0\n",
    "\n",
    "# Prepare dictionary to remove unnecessary unicode\n",
    "table = dict.fromkeys(i for i in range(sys.maxunicode) \n",
    "                        if unicodedata.category(chr(i)).startswith(('P','N','S','Cf','Cn','Cc'))\n",
    "                        and i != 45 and i!= 2404)\n",
    "\n",
    "# Start timer\n",
    "start_time = time.time()\n",
    "\n",
    "for dname in os.listdir(in_path):    \n",
    "    out_fname = dname + '_corpus.txt'\n",
    "    full_out_path = os.path.join(out_path, out_fname) \n",
    "    \n",
    "    if os.path.isfile(full_out_path):\n",
    "        os.remove(full_out_path)\n",
    "    \n",
    "    out_file = open(full_out_path, 'w', encoding='utf8')\n",
    "    \n",
    "    full_in_path = os.path.join(in_path,dname)\n",
    "    for fname in os.listdir(full_in_path):\n",
    "        try:\n",
    "            curr_file = os.path.join(full_in_path,fname)\n",
    "            fp = open(curr_file,encoding='utf-8-sig').read()\n",
    "    \n",
    "            # Remove unnecessary characters\n",
    "            fp = fp.translate(table)\n",
    "\n",
    "            # Replace newline instead of DANDA\n",
    "            fp = fp.replace(\"।\",'\\n')\n",
    "            \n",
    "            # Remove extra spaces and hyphens but does not remove that's between words आ-आफ्नो\n",
    "            # Conditional removal of HYPHEN-MINUS\n",
    "            # Looks for space before/after hyphen, if present remove it\n",
    "            fp = re.sub(r\"(?<!\\w)[-]|[-](?!\\w)\",'',fp)\n",
    "            \n",
    "            out_file.write(fp)\n",
    "            counter = counter + 1\n",
    "            \n",
    "        except:\n",
    "            os.remove(curr_file)\n",
    "            del_counter = del_counter + 1\n",
    "            \n",
    "    out_file.close()\n",
    "\n",
    "end_time = time.time()\n",
    "\n",
    "print('Number of files processed: ', counter)\n",
    "print('Number of files removed: ', del_counter)\n",
    "\n",
    "print('Time taken to create corpus (seconds):',(end_time - start_time))"
   ]
  },
  {
   "cell_type": "code",
   "execution_count": 2,
   "metadata": {},
   "outputs": [
    {
     "data": {
      "text/html": [
       "<div>\n",
       "<style scoped>\n",
       "    .dataframe tbody tr th:only-of-type {\n",
       "        vertical-align: middle;\n",
       "    }\n",
       "\n",
       "    .dataframe tbody tr th {\n",
       "        vertical-align: top;\n",
       "    }\n",
       "\n",
       "    .dataframe thead th {\n",
       "        text-align: right;\n",
       "    }\n",
       "</style>\n",
       "<table border=\"1\" class=\"dataframe\">\n",
       "  <thead>\n",
       "    <tr style=\"text-align: right;\">\n",
       "      <th></th>\n",
       "      <th>label</th>\n",
       "      <th>data</th>\n",
       "    </tr>\n",
       "  </thead>\n",
       "  <tbody>\n",
       "    <tr>\n",
       "      <th>0</th>\n",
       "      <td>10</td>\n",
       "      <td>राजविराज  फागुन  विगत  महिनायताको लामो मधेश आन...</td>\n",
       "    </tr>\n",
       "    <tr>\n",
       "      <th>1</th>\n",
       "      <td>10</td>\n",
       "      <td>माघ काठमाडौं  विद्युत व्यापार सम्झौता पीटीए क...</td>\n",
       "    </tr>\n",
       "    <tr>\n",
       "      <th>2</th>\n",
       "      <td>10</td>\n",
       "      <td>मंसिर रौतहट  केहि दिनदेखि मौसममा आएको स्वभावि...</td>\n",
       "    </tr>\n",
       "    <tr>\n",
       "      <th>3</th>\n",
       "      <td>3</td>\n",
       "      <td>प्रा डा गोविन्द नेपालप्रमुख आर्थिक सल्लाहकार अ...</td>\n",
       "    </tr>\n",
       "    <tr>\n",
       "      <th>4</th>\n",
       "      <td>10</td>\n",
       "      <td>तर संविधानमा समाजवाद किन लेखियो  असोज काठमाडौं...</td>\n",
       "    </tr>\n",
       "  </tbody>\n",
       "</table>\n",
       "</div>"
      ],
      "text/plain": [
       "   label                                               data\n",
       "0     10  राजविराज  फागुन  विगत  महिनायताको लामो मधेश आन...\n",
       "1     10   माघ काठमाडौं  विद्युत व्यापार सम्झौता पीटीए क...\n",
       "2     10   मंसिर रौतहट  केहि दिनदेखि मौसममा आएको स्वभावि...\n",
       "3      3  प्रा डा गोविन्द नेपालप्रमुख आर्थिक सल्लाहकार अ...\n",
       "4     10  तर संविधानमा समाजवाद किन लेखियो  असोज काठमाडौं..."
      ]
     },
     "execution_count": 2,
     "metadata": {},
     "output_type": "execute_result"
    }
   ],
   "source": [
    "'''\n",
    "    Create train/test dataset\n",
    "'''\n",
    "\n",
    "import pandas as pd\n",
    "\n",
    "raw_data = pd.read_csv('./data/raw/raw.csv')\n",
    "raw_data = raw_data.sample(frac=1).reset_index(drop=True)\n",
    "raw_data.head()"
   ]
  },
  {
   "cell_type": "code",
   "execution_count": 3,
   "metadata": {},
   "outputs": [],
   "source": [
    "train = raw_data.sample(frac=0.75, random_state=99).reset_index(drop=True)"
   ]
  },
  {
   "cell_type": "code",
   "execution_count": 4,
   "metadata": {},
   "outputs": [
    {
     "data": {
      "text/html": [
       "<div>\n",
       "<style scoped>\n",
       "    .dataframe tbody tr th:only-of-type {\n",
       "        vertical-align: middle;\n",
       "    }\n",
       "\n",
       "    .dataframe tbody tr th {\n",
       "        vertical-align: top;\n",
       "    }\n",
       "\n",
       "    .dataframe thead th {\n",
       "        text-align: right;\n",
       "    }\n",
       "</style>\n",
       "<table border=\"1\" class=\"dataframe\">\n",
       "  <thead>\n",
       "    <tr style=\"text-align: right;\">\n",
       "      <th></th>\n",
       "      <th>label</th>\n",
       "      <th>data</th>\n",
       "    </tr>\n",
       "  </thead>\n",
       "  <tbody>\n",
       "    <tr>\n",
       "      <th>0</th>\n",
       "      <td>10</td>\n",
       "      <td>थारु सभासदहरुले कैलालीको टीकापुरमा भएको झडपमा ...</td>\n",
       "    </tr>\n",
       "    <tr>\n",
       "      <th>1</th>\n",
       "      <td>10</td>\n",
       "      <td>राजविराज  चैत  सप्तरी प्रहरीले पातो गाविसबाट स...</td>\n",
       "    </tr>\n",
       "    <tr>\n",
       "      <th>2</th>\n",
       "      <td>1</td>\n",
       "      <td>गजेन्द्र बुढाथोकीकाठमाडौं  माघ  बैंकिङ क्षेत्र...</td>\n",
       "    </tr>\n",
       "    <tr>\n",
       "      <th>3</th>\n",
       "      <td>10</td>\n",
       "      <td>उपप्रधानमन्त्री कमल थापाले संविधानमा असहमति हु...</td>\n",
       "    </tr>\n",
       "    <tr>\n",
       "      <th>4</th>\n",
       "      <td>10</td>\n",
       "      <td>असोज काठमाडौं  अमेरिकी अधिकारीहरुले आधिकारिक ...</td>\n",
       "    </tr>\n",
       "  </tbody>\n",
       "</table>\n",
       "</div>"
      ],
      "text/plain": [
       "   label                                               data\n",
       "0     10  थारु सभासदहरुले कैलालीको टीकापुरमा भएको झडपमा ...\n",
       "1     10  राजविराज  चैत  सप्तरी प्रहरीले पातो गाविसबाट स...\n",
       "2      1  गजेन्द्र बुढाथोकीकाठमाडौं  माघ  बैंकिङ क्षेत्र...\n",
       "3     10  उपप्रधानमन्त्री कमल थापाले संविधानमा असहमति हु...\n",
       "4     10   असोज काठमाडौं  अमेरिकी अधिकारीहरुले आधिकारिक ..."
      ]
     },
     "execution_count": 4,
     "metadata": {},
     "output_type": "execute_result"
    }
   ],
   "source": [
    "train.head()"
   ]
  },
  {
   "cell_type": "code",
   "execution_count": 5,
   "metadata": {},
   "outputs": [],
   "source": [
    "train.to_csv('./data/raw/train.csv', index=False)"
   ]
  },
  {
   "cell_type": "code",
   "execution_count": 6,
   "metadata": {},
   "outputs": [],
   "source": [
    "test = raw_data.loc[~raw_data.index.isin(train.index), :].reset_index(drop=True)"
   ]
  },
  {
   "cell_type": "code",
   "execution_count": 7,
   "metadata": {},
   "outputs": [
    {
     "data": {
      "text/plain": [
       "(3531, 2)"
      ]
     },
     "execution_count": 7,
     "metadata": {},
     "output_type": "execute_result"
    }
   ],
   "source": [
    "test.shape"
   ]
  },
  {
   "cell_type": "code",
   "execution_count": 8,
   "metadata": {},
   "outputs": [
    {
     "data": {
      "text/html": [
       "<div>\n",
       "<style scoped>\n",
       "    .dataframe tbody tr th:only-of-type {\n",
       "        vertical-align: middle;\n",
       "    }\n",
       "\n",
       "    .dataframe tbody tr th {\n",
       "        vertical-align: top;\n",
       "    }\n",
       "\n",
       "    .dataframe thead th {\n",
       "        text-align: right;\n",
       "    }\n",
       "</style>\n",
       "<table border=\"1\" class=\"dataframe\">\n",
       "  <thead>\n",
       "    <tr style=\"text-align: right;\">\n",
       "      <th></th>\n",
       "      <th>label</th>\n",
       "      <th>data</th>\n",
       "    </tr>\n",
       "  </thead>\n",
       "  <tbody>\n",
       "    <tr>\n",
       "      <th>0</th>\n",
       "      <td>12</td>\n",
       "      <td>भारत भ्रमण सकेर फर्किएपछि पूर्वाराजा ज्ञानेन्द...</td>\n",
       "    </tr>\n",
       "    <tr>\n",
       "      <th>1</th>\n",
       "      <td>10</td>\n",
       "      <td>काठमाडौं  भूकम्प पीडितको राहत र उद्धारको नाममा...</td>\n",
       "    </tr>\n",
       "    <tr>\n",
       "      <th>2</th>\n",
       "      <td>10</td>\n",
       "      <td>रवीन्द्र घिमिरे माघ काठमाडौं  सरकारले नेपाली य...</td>\n",
       "    </tr>\n",
       "    <tr>\n",
       "      <th>3</th>\n",
       "      <td>10</td>\n",
       "      <td>श्यामसुन्दर पासवानकञ्चनपुर  वैशाख  बिराटनगरमा ...</td>\n",
       "    </tr>\n",
       "    <tr>\n",
       "      <th>4</th>\n",
       "      <td>12</td>\n",
       "      <td>वैशाख काठमाडौं  इण्डियन प्रिमियर लिग क्रिकेट ...</td>\n",
       "    </tr>\n",
       "  </tbody>\n",
       "</table>\n",
       "</div>"
      ],
      "text/plain": [
       "   label                                               data\n",
       "0     12  भारत भ्रमण सकेर फर्किएपछि पूर्वाराजा ज्ञानेन्द...\n",
       "1     10  काठमाडौं  भूकम्प पीडितको राहत र उद्धारको नाममा...\n",
       "2     10  रवीन्द्र घिमिरे माघ काठमाडौं  सरकारले नेपाली य...\n",
       "3     10  श्यामसुन्दर पासवानकञ्चनपुर  वैशाख  बिराटनगरमा ...\n",
       "4     12   वैशाख काठमाडौं  इण्डियन प्रिमियर लिग क्रिकेट ..."
      ]
     },
     "execution_count": 8,
     "metadata": {},
     "output_type": "execute_result"
    }
   ],
   "source": [
    "test.head()"
   ]
  },
  {
   "cell_type": "code",
   "execution_count": 9,
   "metadata": {},
   "outputs": [],
   "source": [
    "test.to_csv('./data/raw/test.csv', index=False)"
   ]
  },
  {
   "cell_type": "code",
   "execution_count": 8,
   "metadata": {},
   "outputs": [],
   "source": [
    "import pandas as pd"
   ]
  },
  {
   "cell_type": "code",
   "execution_count": 9,
   "metadata": {},
   "outputs": [],
   "source": [
    "d = {'data':[]}\n",
    "\n",
    "df = pd.DataFrame(data=d)"
   ]
  },
  {
   "cell_type": "code",
   "execution_count": 16,
   "metadata": {},
   "outputs": [
    {
     "data": {
      "text/plain": [
       "Series([], Name: data, dtype: object)"
      ]
     },
     "execution_count": 16,
     "metadata": {},
     "output_type": "execute_result"
    }
   ],
   "source": [
    "df.data.add('Oyesh')"
   ]
  },
  {
   "cell_type": "code",
   "execution_count": 17,
   "metadata": {},
   "outputs": [
    {
     "name": "stdout",
     "output_type": "stream",
     "text": [
      "Series([], Name: data, dtype: object)\n"
     ]
    }
   ],
   "source": [
    "print(df['data'])"
   ]
  },
  {
   "cell_type": "code",
   "execution_count": null,
   "metadata": {},
   "outputs": [],
   "source": []
  }
 ],
 "metadata": {
  "kernelspec": {
   "display_name": "Python 3",
   "language": "python",
   "name": "python3"
  },
  "language_info": {
   "codemirror_mode": {
    "name": "ipython",
    "version": 3
   },
   "file_extension": ".py",
   "mimetype": "text/x-python",
   "name": "python",
   "nbconvert_exporter": "python",
   "pygments_lexer": "ipython3",
   "version": "3.6.7"
  }
 },
 "nbformat": 4,
 "nbformat_minor": 2
}
