{
 "cells": [
  {
   "cell_type": "markdown",
   "metadata": {},
   "source": [
    "# Nepali News Text Classification"
   ]
  },
  {
   "cell_type": "markdown",
   "metadata": {},
   "source": [
    "### Imports"
   ]
  },
  {
   "cell_type": "code",
   "execution_count": 1,
   "metadata": {},
   "outputs": [],
   "source": [
    "'''\n",
    "    Description:\n",
    "        This program is for document classification written in Nepali language.\n",
    "    \n",
    "    Date - 11/10/2018\n",
    "    \n",
    "    Author - Oyesh Mann Singh\n",
    "    \n",
    "    Tasks to do:\n",
    "        Work on to merge the labels\n",
    "        Auto + Bank + Employement + BusinessInterview + Economy\n",
    "        Interview + Opinion + Literature\n",
    "    \n",
    "    Reference - https://github.com/hpanwar08/sentiment-analysis-torchtext/blob/master/Sentiment_Analysis_torchtext.ipynb\n",
    "'''\n",
    "%matplotlib inline\n",
    "import os, sys\n",
    "import re\n",
    "import string\n",
    "import pathlib\n",
    "import random\n",
    "from collections import Counter, OrderedDict\n",
    "import numpy as np\n",
    "import pandas as pd\n",
    "import matplotlib.pyplot as plt\n",
    "import seaborn as sns\n",
    "import spacy\n",
    "from tqdm import tqdm, tqdm_notebook, tnrange\n",
    "tqdm.pandas(desc='Progress')\n",
    "\n",
    "import torch\n",
    "import torch.nn as nn\n",
    "import torch.optim as optim\n",
    "from torch.autograd import Variable\n",
    "import torch.nn.functional as F\n",
    "from torch.nn.utils.rnn import pack_padded_sequence, pad_packed_sequence\n",
    "\n",
    "import torchtext\n",
    "from torchtext import data\n",
    "from torchtext import vocab\n",
    "\n",
    "from sklearn.model_selection import StratifiedShuffleSplit, train_test_split\n",
    "from sklearn.metrics import accuracy_score\n",
    "\n",
    "from IPython.core.interactiveshell import InteractiveShell\n",
    "InteractiveShell.ast_node_interactivity='all'\n",
    "\n",
    "import warnings\n",
    "warnings.filterwarnings('ignore')\n",
    "\n",
    "device = torch.device(\"cuda:0\" if torch.cuda.is_available() else \"cpu\")"
   ]
  },
  {
   "cell_type": "code",
   "execution_count": 2,
   "metadata": {},
   "outputs": [
    {
     "name": "stdout",
     "output_type": "stream",
     "text": [
      "Python version: 3.6.7 |Anaconda, Inc.| (default, Oct 23 2018, 19:29:21) \n",
      "[GCC 7.3.0]\n",
      "Pandas version: 0.23.4\n",
      "Pytorch version: 0.4.0\n",
      "Torch Text version: 0.3.1\n",
      "Spacy version: 2.0.16\n"
     ]
    }
   ],
   "source": [
    "print('Python version:',sys.version)\n",
    "print('Pandas version:',pd.__version__)\n",
    "print('Pytorch version:', torch.__version__)\n",
    "print('Torch Text version:', torchtext.__version__)\n",
    "print('Spacy version:', spacy.__version__)"
   ]
  },
  {
   "cell_type": "markdown",
   "metadata": {},
   "source": [
    "### Load data"
   ]
  },
  {
   "cell_type": "code",
   "execution_count": 3,
   "metadata": {},
   "outputs": [],
   "source": [
    "data_root = pathlib.Path('../data/raw/')\n",
    "\n",
    "classes = ['Auto', 'Bank', 'Blog', 'Business Interview',\n",
    "           'Economy', 'Education', 'Employment', 'Entertainment',\n",
    "           'Interview', 'Literature', 'National News', 'Opinion',\n",
    "           'Sports', 'Technology', 'Tourism', 'World']"
   ]
  },
  {
   "cell_type": "code",
   "execution_count": 4,
   "metadata": {},
   "outputs": [
    {
     "data": {
      "text/plain": [
       "(10594, 2)"
      ]
     },
     "execution_count": 4,
     "metadata": {},
     "output_type": "execute_result"
    },
    {
     "data": {
      "text/html": [
       "<div>\n",
       "<style scoped>\n",
       "    .dataframe tbody tr th:only-of-type {\n",
       "        vertical-align: middle;\n",
       "    }\n",
       "\n",
       "    .dataframe tbody tr th {\n",
       "        vertical-align: top;\n",
       "    }\n",
       "\n",
       "    .dataframe thead th {\n",
       "        text-align: right;\n",
       "    }\n",
       "</style>\n",
       "<table border=\"1\" class=\"dataframe\">\n",
       "  <thead>\n",
       "    <tr style=\"text-align: right;\">\n",
       "      <th></th>\n",
       "      <th>label</th>\n",
       "      <th>data</th>\n",
       "    </tr>\n",
       "  </thead>\n",
       "  <tbody>\n",
       "    <tr>\n",
       "      <th>0</th>\n",
       "      <td>10</td>\n",
       "      <td>थारु सभासदहरुले कैलालीको टीकापुरमा भएको झडपमा ...</td>\n",
       "    </tr>\n",
       "    <tr>\n",
       "      <th>1</th>\n",
       "      <td>10</td>\n",
       "      <td>राजविराज  चैत  सप्तरी प्रहरीले पातो गाविसबाट स...</td>\n",
       "    </tr>\n",
       "    <tr>\n",
       "      <th>2</th>\n",
       "      <td>1</td>\n",
       "      <td>गजेन्द्र बुढाथोकीकाठमाडौं  माघ  बैंकिङ क्षेत्र...</td>\n",
       "    </tr>\n",
       "    <tr>\n",
       "      <th>3</th>\n",
       "      <td>10</td>\n",
       "      <td>उपप्रधानमन्त्री कमल थापाले संविधानमा असहमति हु...</td>\n",
       "    </tr>\n",
       "    <tr>\n",
       "      <th>4</th>\n",
       "      <td>10</td>\n",
       "      <td>असोज काठमाडौं  अमेरिकी अधिकारीहरुले आधिकारिक ...</td>\n",
       "    </tr>\n",
       "  </tbody>\n",
       "</table>\n",
       "</div>"
      ],
      "text/plain": [
       "   label                                               data\n",
       "0     10  थारु सभासदहरुले कैलालीको टीकापुरमा भएको झडपमा ...\n",
       "1     10  राजविराज  चैत  सप्तरी प्रहरीले पातो गाविसबाट स...\n",
       "2      1  गजेन्द्र बुढाथोकीकाठमाडौं  माघ  बैंकिङ क्षेत्र...\n",
       "3     10  उपप्रधानमन्त्री कमल थापाले संविधानमा असहमति हु...\n",
       "4     10   असोज काठमाडौं  अमेरिकी अधिकारीहरुले आधिकारिक ..."
      ]
     },
     "execution_count": 4,
     "metadata": {},
     "output_type": "execute_result"
    }
   ],
   "source": [
    "df = pd.read_csv('../data/raw/train.csv', error_bad_lines=False)\n",
    "df.shape\n",
    "df.head()"
   ]
  },
  {
   "cell_type": "code",
   "execution_count": 5,
   "metadata": {},
   "outputs": [],
   "source": [
    "df = df.rename(index=str, columns={\"data\": \"SentimentText\", \"label\": \"Sentiment\"})"
   ]
  },
  {
   "cell_type": "code",
   "execution_count": 6,
   "metadata": {},
   "outputs": [
    {
     "data": {
      "image/png": "[encoded data removed]",
      "text/plain": [
       "<Figure size 576x360 with 1 Axes>"
      ]
     },
     "metadata": {
      "needs_background": "light"
     },
     "output_type": "display_data"
    }
   ],
   "source": [
    "fig = plt.figure(figsize=(8,5))\n",
    "ax = sns.barplot(x=df.Sentiment.unique(), y=df.Sentiment.value_counts());\n",
    "ax.set_xticklabels(classes, rotation=90)\n",
    "ax.set(xlabel='Labels');"
   ]
  },
  {
   "cell_type": "markdown",
   "metadata": {},
   "source": [
    "## Train validation split"
   ]
  },
  {
   "cell_type": "markdown",
   "metadata": {},
   "source": [
    "##### torchtext have trouble handling \\n. Replace \\n character with space."
   ]
  },
  {
   "cell_type": "code",
   "execution_count": 7,
   "metadata": {},
   "outputs": [
    {
     "name": "stderr",
     "output_type": "stream",
     "text": [
      "Progress: 100%|██████████| 10594/10594 [00:00<00:00, 171017.52it/s]\n"
     ]
    }
   ],
   "source": [
    "df['SentimentText'] = df.SentimentText.progress_apply(lambda x: re.sub('\\n', ' ', x))"
   ]
  },
  {
   "cell_type": "code",
   "execution_count": 8,
   "metadata": {},
   "outputs": [],
   "source": [
    "def split_train_test(df, test_size=0.2):\n",
    "    train, val = train_test_split(df, test_size=test_size,random_state=42)\n",
    "    return train.reset_index(drop=True), val.reset_index(drop=True)"
   ]
  },
  {
   "cell_type": "code",
   "execution_count": 9,
   "metadata": {},
   "outputs": [],
   "source": [
    "traindf, valdf = split_train_test(df, test_size=0.2)"
   ]
  },
  {
   "cell_type": "code",
   "execution_count": 10,
   "metadata": {},
   "outputs": [
    {
     "data": {
      "text/plain": [
       "(8475, 2)"
      ]
     },
     "execution_count": 10,
     "metadata": {},
     "output_type": "execute_result"
    },
    {
     "data": {
      "text/plain": [
       "10    4363\n",
       "12    1365\n",
       "7      719\n",
       "4      697\n",
       "11     342\n",
       "1      216\n",
       "2      134\n",
       "14     126\n",
       "15     116\n",
       "6       88\n",
       "3       84\n",
       "13      56\n",
       "5       54\n",
       "8       53\n",
       "0       52\n",
       "9       10\n",
       "Name: Sentiment, dtype: int64"
      ]
     },
     "execution_count": 10,
     "metadata": {},
     "output_type": "execute_result"
    }
   ],
   "source": [
    "traindf.shape\n",
    "traindf.Sentiment.value_counts()"
   ]
  },
  {
   "cell_type": "code",
   "execution_count": 11,
   "metadata": {},
   "outputs": [
    {
     "data": {
      "text/plain": [
       "(2119, 2)"
      ]
     },
     "execution_count": 11,
     "metadata": {},
     "output_type": "execute_result"
    },
    {
     "data": {
      "text/plain": [
       "10    1111\n",
       "12     341\n",
       "4      181\n",
       "7      162\n",
       "11      77\n",
       "1       54\n",
       "15      37\n",
       "14      34\n",
       "2       27\n",
       "3       24\n",
       "6       20\n",
       "0       16\n",
       "8       12\n",
       "5       11\n",
       "13       9\n",
       "9        3\n",
       "Name: Sentiment, dtype: int64"
      ]
     },
     "execution_count": 11,
     "metadata": {},
     "output_type": "execute_result"
    }
   ],
   "source": [
    "valdf.shape\n",
    "valdf.Sentiment.value_counts()"
   ]
  },
  {
   "cell_type": "markdown",
   "metadata": {},
   "source": [
    "##### Save the train and validation df"
   ]
  },
  {
   "cell_type": "code",
   "execution_count": 12,
   "metadata": {},
   "outputs": [],
   "source": [
    "traindf.to_csv(data_root/'traindf.csv', index=False)\n",
    "valdf.to_csv(data_root/'valdf.csv', index=False)"
   ]
  },
  {
   "cell_type": "markdown",
   "metadata": {},
   "source": [
    "## 1. Define how to process data"
   ]
  },
  {
   "cell_type": "markdown",
   "metadata": {},
   "source": [
    "##### Preprocessing"
   ]
  },
  {
   "cell_type": "code",
   "execution_count": 13,
   "metadata": {},
   "outputs": [],
   "source": [
    "# nlp = spacy.load('en',disable=['parser', 'tagger', 'ner'])\n",
    "# def tokenizer(s): return [w.text.lower() for w in nlp(tweet_clean(s))]"
   ]
  },
  {
   "cell_type": "code",
   "execution_count": 14,
   "metadata": {},
   "outputs": [],
   "source": [
    "# def tweet_clean(text):\n",
    "#     text = re.sub(r'[^A-Za-z0-9]+', ' ', text) # remove non alphanumeric character\n",
    "#     text = re.sub(r'https?:/\\/\\S+', ' ', text) # remove links\n",
    "#     return text.strip()"
   ]
  },
  {
   "cell_type": "code",
   "execution_count": 15,
   "metadata": {},
   "outputs": [],
   "source": [
    "def tokenizer(s): return s.split()"
   ]
  },
  {
   "cell_type": "markdown",
   "metadata": {},
   "source": [
    "##### Define fields"
   ]
  },
  {
   "cell_type": "code",
   "execution_count": 16,
   "metadata": {},
   "outputs": [],
   "source": [
    "txt_field = data.Field(sequential=True, tokenize=tokenizer, include_lengths=True, use_vocab=True)\n",
    "label_field = data.Field(sequential=False, use_vocab=False, pad_token=None, unk_token=None)\n",
    "\n",
    "train_val_fields = [\n",
    "    ('Sentiment', label_field),\n",
    "    ('SentimentText', txt_field)\n",
    "]"
   ]
  },
  {
   "cell_type": "markdown",
   "metadata": {},
   "source": [
    "## 2. Create torchtext dataset"
   ]
  },
  {
   "cell_type": "code",
   "execution_count": 17,
   "metadata": {},
   "outputs": [
    {
     "name": "stdout",
     "output_type": "stream",
     "text": [
      "CPU times: user 1.14 s, sys: 76 ms, total: 1.22 s\n",
      "Wall time: 1.21 s\n"
     ]
    }
   ],
   "source": [
    "%%time\n",
    "trainds, valds = data.TabularDataset.splits(path=data_root, format='csv', train='traindf.csv', validation='valdf.csv', fields=train_val_fields, skip_header=True)"
   ]
  },
  {
   "cell_type": "code",
   "execution_count": 18,
   "metadata": {},
   "outputs": [
    {
     "data": {
      "text/plain": [
       "(8475, 2119)"
      ]
     },
     "execution_count": 18,
     "metadata": {},
     "output_type": "execute_result"
    }
   ],
   "source": [
    "len(trainds), len(valds)"
   ]
  },
  {
   "cell_type": "code",
   "execution_count": 19,
   "metadata": {},
   "outputs": [
    {
     "data": {
      "text/plain": [
       "dict_items([('Sentiment', <torchtext.data.field.Field object at 0x3fff5561a5f8>), ('SentimentText', <torchtext.data.field.Field object at 0x3fff5561a080>)])"
      ]
     },
     "execution_count": 19,
     "metadata": {},
     "output_type": "execute_result"
    }
   ],
   "source": [
    "ex = trainds[0]\n",
    "trainds.fields.items()\n",
    "# ex.Sentiment\n",
    "# ex.SentimentText"
   ]
  },
  {
   "cell_type": "code",
   "execution_count": 41,
   "metadata": {},
   "outputs": [
    {
     "data": {
      "text/plain": [
       "['राजविराज',\n",
       " 'साउन',\n",
       " 'सप्तरी',\n",
       " 'जिल्लामा',\n",
       " 'पहिलो',\n",
       " 'पटक',\n",
       " 'आयोजना',\n",
       " 'हुन',\n",
       " 'लागेको',\n",
       " 'युवा',\n",
       " 'सम्मेलनको',\n",
       " 'तयारी',\n",
       " 'अन्तिम',\n",
       " 'चरणमा',\n",
       " 'पुगेको',\n",
       " 'छ',\n",
       " 'गजेन्द्रनारायण',\n",
       " 'सिंह',\n",
       " 'औद्योगिक',\n",
       " 'क्षेत्रमा',\n",
       " 'बुधवार',\n",
       " 'पत्रकार',\n",
       " 'सम्मेलनको',\n",
       " 'आयोजना',\n",
       " 'गरी',\n",
       " 'कार्यक्रमबारे',\n",
       " 'जानकारी',\n",
       " 'दिईएको',\n",
       " 'हो',\n",
       " 'आगामी',\n",
       " 'साउन',\n",
       " 'र',\n",
       " 'गते',\n",
       " 'सप्तरी',\n",
       " 'युवा',\n",
       " 'सम्मेलन',\n",
       " 'गर्न',\n",
       " 'लागिएको',\n",
       " 'उक्त',\n",
       " 'कार्यक्रमको',\n",
       " 'सम्पूर्ण',\n",
       " 'तयारी',\n",
       " 'अन्तिम',\n",
       " 'चरणमा',\n",
       " 'पुगिसकेको',\n",
       " 'सम्मेलन',\n",
       " 'आयोजक',\n",
       " 'समितिका',\n",
       " 'संयोजक',\n",
       " 'श्रवण',\n",
       " 'देवले',\n",
       " 'जानकारी',\n",
       " 'दिए',\n",
       " 'सम्मेलन',\n",
       " 'अघि',\n",
       " 'हालसम्म',\n",
       " 'विभिन्न',\n",
       " 'सरकारी',\n",
       " 'तथा',\n",
       " 'गैरसरकारी',\n",
       " 'निकायका',\n",
       " 'साथै',\n",
       " 'युवाहरुसँग',\n",
       " 'छलफल',\n",
       " 'तथा',\n",
       " 'प्रत्येक',\n",
       " 'क्षेत्रमा',\n",
       " 'समितिहरु',\n",
       " 'समेत',\n",
       " 'गठन',\n",
       " 'गरिएको',\n",
       " 'उनले',\n",
       " 'बताए',\n",
       " 'सप्तरी',\n",
       " 'जिल्लाको',\n",
       " 'गाविसबाट',\n",
       " 'दुईदुई',\n",
       " 'र',\n",
       " 'चार',\n",
       " 'नगरपालिकाबाट',\n",
       " 'चारचार',\n",
       " 'जना',\n",
       " 'युवा',\n",
       " 'प्रतिनीधिहरु',\n",
       " 'सहभागिता',\n",
       " 'हुने',\n",
       " 'उनले',\n",
       " 'जानकारी',\n",
       " 'दिए',\n",
       " 'प्रत्येक',\n",
       " 'गाविस',\n",
       " 'र',\n",
       " 'नगरपालिकाबाट',\n",
       " 'सहभागी',\n",
       " 'हुने',\n",
       " 'युवा',\n",
       " 'सहभागीले',\n",
       " 'आआफ्नो',\n",
       " 'क्षेत्रमा',\n",
       " 'रहेका',\n",
       " 'युवाको',\n",
       " 'समस्या',\n",
       " 'सम्मेलनमा',\n",
       " 'राखेर',\n",
       " 'समाधानका',\n",
       " 'उपायबारे',\n",
       " 'समेत',\n",
       " 'सम्वन्धित',\n",
       " 'क्षेत्रका',\n",
       " 'विज्ञहरुबाट',\n",
       " 'समाधानका',\n",
       " 'उपायको',\n",
       " 'खोजी',\n",
       " 'गरिने',\n",
       " 'पत्रकार',\n",
       " 'सम्मेलनमा',\n",
       " 'उनले',\n",
       " 'जानकारी',\n",
       " 'दिए',\n",
       " 'संयोजक',\n",
       " 'देवले',\n",
       " 'भने',\n",
       " 'जिल्लामा',\n",
       " 'पाँच',\n",
       " 'प्रतिशत',\n",
       " 'युवा',\n",
       " 'लागूऔषध',\n",
       " 'प्रयोगकर्ता',\n",
       " 'रहेको',\n",
       " 'बेरोजगारी',\n",
       " 'समस्याका',\n",
       " 'कारण',\n",
       " 'अधिकांश',\n",
       " 'युवा',\n",
       " 'विदेश',\n",
       " 'पलायन',\n",
       " 'भएको',\n",
       " 'तथा',\n",
       " 'राजननीतिक',\n",
       " 'दलहरुले',\n",
       " 'समेत',\n",
       " 'युवाका',\n",
       " 'विषयमा',\n",
       " 'ठोस',\n",
       " 'रणनीति',\n",
       " 'ल्याउन',\n",
       " 'सकेको',\n",
       " 'छैन',\n",
       " 'जिल्लामा',\n",
       " 'बिघा',\n",
       " 'क्षेत्रफलमा',\n",
       " 'भौतिक',\n",
       " 'संरचनासहितको',\n",
       " 'औद्योगिक',\n",
       " 'क्षेत्र',\n",
       " 'भए',\n",
       " 'पनि',\n",
       " 'कुनै',\n",
       " 'उद्योग',\n",
       " 'सञ्चालन',\n",
       " 'नहुँदा',\n",
       " 'युवाहरुलाई',\n",
       " 'बेरोजगारीको',\n",
       " 'सामना',\n",
       " 'गर्नुपरेकाले',\n",
       " 'औद्योगिक',\n",
       " 'क्षेत्रको',\n",
       " 'मुद्दा',\n",
       " 'समेत',\n",
       " 'युवा',\n",
       " 'सम्मेलनमा',\n",
       " 'प्राथमिकताकासाथ',\n",
       " 'उठाईने',\n",
       " 'संयोजक',\n",
       " 'देवले',\n",
       " 'बताए',\n",
       " 'स्थानीय',\n",
       " 'निकायलगायत',\n",
       " 'हरेक',\n",
       " 'क्षेत्रमा',\n",
       " 'महिला',\n",
       " 'बालबालिका',\n",
       " 'दलितलगायतका',\n",
       " 'क्षेत्रमा',\n",
       " 'बजेट',\n",
       " 'विनियोजना',\n",
       " 'गर्दैआए',\n",
       " 'पनि',\n",
       " 'युवालाई',\n",
       " 'उपेक्षा',\n",
       " 'गरेको',\n",
       " 'उनले',\n",
       " 'गुनासो',\n",
       " 'गरे',\n",
       " 'सम्मेलनलाई',\n",
       " 'सफल',\n",
       " 'पार्न',\n",
       " 'आआफ्नो',\n",
       " 'स्थानबाट',\n",
       " 'सहयोग',\n",
       " 'गर्न',\n",
       " 'युवाहरुको',\n",
       " 'तर्फबाट',\n",
       " 'उनले',\n",
       " 'आग्रह',\n",
       " 'गरे',\n",
       " 'उनका',\n",
       " 'अनुसार',\n",
       " 'जिल्लाको',\n",
       " 'विभिन्न',\n",
       " 'स्थानबाट',\n",
       " 'आएका',\n",
       " 'युवाहरुको',\n",
       " 'प्रतिनीधिमूलक',\n",
       " 'सहभागितामा',\n",
       " 'शुक्रवार',\n",
       " 'विहान',\n",
       " 'प्रभातफेरी',\n",
       " 'पश्चात',\n",
       " 'राजविराज',\n",
       " 'स्थित',\n",
       " 'गजेन्द्र',\n",
       " 'चौकबाट',\n",
       " 'पाँच',\n",
       " 'सय',\n",
       " 'एक',\n",
       " 'ओटा',\n",
       " 'बैलुन',\n",
       " 'समेत',\n",
       " 'उडाउने',\n",
       " 'कार्यक्रम',\n",
       " 'रहेको',\n",
       " 'छ']"
      ]
     },
     "execution_count": 41,
     "metadata": {},
     "output_type": "execute_result"
    }
   ],
   "source": [
    "ex = valds[0]\n",
    "ex.SentimentText"
   ]
  },
  {
   "cell_type": "markdown",
   "metadata": {},
   "source": [
    "## 3. Load pretrained word vectors and building vocabulary"
   ]
  },
  {
   "cell_type": "code",
   "execution_count": 25,
   "metadata": {},
   "outputs": [
    {
     "name": "stderr",
     "output_type": "stream",
     "text": [
      "  0%|          | 0/539316 [00:00<?, ?it/s]Skipping token b'539316' with 1-dimensional vector [b'100']; likely a header\n",
      "100%|█████████▉| 539153/539316 [00:31<00:00, 17110.22it/s]"
     ]
    },
    {
     "name": "stdout",
     "output_type": "stream",
     "text": [
      "CPU times: user 33.3 s, sys: 4.05 s, total: 37.4 s\n",
      "Wall time: 33.8 s\n"
     ]
    },
    {
     "name": "stderr",
     "output_type": "stream",
     "text": [
      "\r",
      "100%|█████████▉| 539153/539316 [00:50<00:00, 17110.22it/s]"
     ]
    }
   ],
   "source": [
    "%%time\n",
    "# vec = vocab.Vectors('glove.twitter.27B.100d.txt', './data/glove_embedding/')\n",
    "vec = vocab.Vectors('../data/ner/nep2vec_text')"
   ]
  },
  {
   "cell_type": "code",
   "execution_count": 28,
   "metadata": {},
   "outputs": [
    {
     "name": "stdout",
     "output_type": "stream",
     "text": [
      "CPU times: user 2.26 s, sys: 16 ms, total: 2.28 s\n",
      "Wall time: 2.28 s\n"
     ]
    }
   ],
   "source": [
    "%%time\n",
    "txt_field.build_vocab(trainds, valds, max_size=100000, vectors=vec)\n",
    "label_field.build_vocab(trainds)"
   ]
  },
  {
   "cell_type": "code",
   "execution_count": 29,
   "metadata": {},
   "outputs": [
    {
     "data": {
      "text/plain": [
       "torch.Size([100002, 100])"
      ]
     },
     "execution_count": 29,
     "metadata": {},
     "output_type": "execute_result"
    }
   ],
   "source": [
    "txt_field.vocab.vectors.shape"
   ]
  },
  {
   "cell_type": "code",
   "execution_count": 30,
   "metadata": {},
   "outputs": [
    {
     "data": {
      "text/plain": [
       "tensor([-2.1809, -2.9064,  0.2999,  2.0110,  0.4456, -1.9149,  2.5928,\n",
       "         0.4759, -3.5168, -1.7228,  0.9689, -1.1807,  1.2251,  1.5143,\n",
       "         0.2402,  0.7863,  1.8475,  1.4941, -1.8930,  0.9076, -2.8261,\n",
       "         2.1876, -0.3402,  5.4560,  2.8103, -0.7420,  2.4383, -3.1116,\n",
       "        -4.5566, -2.2779, -1.9585,  2.8425,  0.1013, -1.9101, -0.8738,\n",
       "         1.4721, -1.8572, -2.3011,  1.7271,  1.7833, -1.3904, -1.2532,\n",
       "         1.6021, -1.7275, -0.3048, -0.2916,  0.4738,  1.4575, -2.0842,\n",
       "         4.7013,  1.9108,  3.2337, -0.6426,  0.7547, -0.2982, -0.3934,\n",
       "         0.0745, -0.0009, -0.6721,  0.5823,  0.1119,  2.0588, -2.2671,\n",
       "         2.2146, -2.7261, -0.2615, -2.1634,  1.0676,  2.4389,  3.0188,\n",
       "        -1.3422, -0.8430,  1.9157, -1.0331,  2.1610,  2.0938,  2.5880,\n",
       "         2.2489, -2.0876,  0.3517,  0.7181,  0.8557, -0.3567,  1.6973,\n",
       "         0.9724, -1.7851,  1.9660, -1.3585, -1.0752,  0.0231,  3.3223,\n",
       "         1.6451, -0.5706,  3.7812,  0.0932, -0.6909, -3.2804, -4.7514,\n",
       "         3.3185, -3.5189])"
      ]
     },
     "execution_count": 30,
     "metadata": {},
     "output_type": "execute_result"
    }
   ],
   "source": [
    "txt_field.vocab.vectors[txt_field.vocab.stoi['म']]"
   ]
  },
  {
   "cell_type": "markdown",
   "metadata": {},
   "source": [
    "## 4. Loading the data in batches"
   ]
  },
  {
   "cell_type": "code",
   "execution_count": 31,
   "metadata": {},
   "outputs": [],
   "source": [
    "traindl, valdl = data.BucketIterator.splits(datasets=(trainds, valds), \n",
    "                                            batch_sizes=(3,3), \n",
    "                                            sort_key=lambda x: len(x.SentimentText), \n",
    "                                            device=None, \n",
    "                                            sort_within_batch=True, \n",
    "                                            repeat=False)"
   ]
  },
  {
   "cell_type": "code",
   "execution_count": 32,
   "metadata": {},
   "outputs": [
    {
     "data": {
      "text/plain": [
       "(2825, 707)"
      ]
     },
     "execution_count": 32,
     "metadata": {},
     "output_type": "execute_result"
    }
   ],
   "source": [
    "len(traindl), len(valdl)"
   ]
  },
  {
   "cell_type": "code",
   "execution_count": 35,
   "metadata": {},
   "outputs": [
    {
     "data": {
      "text/plain": [
       "torchtext.data.iterator.BucketIterator"
      ]
     },
     "execution_count": 35,
     "metadata": {},
     "output_type": "execute_result"
    }
   ],
   "source": [
    "batch = next(iter(traindl))\n",
    "type(traindl)"
   ]
  },
  {
   "cell_type": "code",
   "execution_count": 36,
   "metadata": {},
   "outputs": [
    {
     "data": {
      "text/plain": [
       "tensor([ 10,  10,  10])"
      ]
     },
     "execution_count": 36,
     "metadata": {},
     "output_type": "execute_result"
    }
   ],
   "source": [
    "batch.Sentiment"
   ]
  },
  {
   "cell_type": "markdown",
   "metadata": {},
   "source": [
    "##### returns word indices and lengths"
   ]
  },
  {
   "cell_type": "code",
   "execution_count": 37,
   "metadata": {},
   "outputs": [
    {
     "data": {
      "text/plain": [
       "(tensor([[   228,  65938,   3379],\n",
       "         [   608,  66171,   5836],\n",
       "         [  3161,   5380,      0],\n",
       "         [ 23522,  12794,    473],\n",
       "         [  3855,     72,     24],\n",
       "         [ 14097,    451,  32737],\n",
       "         [ 22190,     41,    689],\n",
       "         [  8800,   4300,     24],\n",
       "         [    23,    983,   5532],\n",
       "         [   302,    986,   1147],\n",
       "         [  8328,    301,  22335],\n",
       "         [     3,     56,   1316],\n",
       "         [  5598,     32,   2308],\n",
       "         [  5844,   3151,   4360],\n",
       "         [    36,  40149,    439],\n",
       "         [   448,    538,   1948],\n",
       "         [    19,  27302,   9544],\n",
       "         [     5,    226,   1796],\n",
       "         [   249,  41486,   1578],\n",
       "         [  3855,  66171,   3973],\n",
       "         [  1740,      0,   2163],\n",
       "         [     8,   1392,     15],\n",
       "         [ 39513,   1106,   2190],\n",
       "         [  8800,   2294,  12930],\n",
       "         [   151,  16612,    432],\n",
       "         [   573,   3697,    110],\n",
       "         [   448,      3,    209],\n",
       "         [    28,  18713,      6],\n",
       "         [   608,    110,      2],\n",
       "         [  1352,    209,   1608],\n",
       "         [  1762,      7,  30629],\n",
       "         [ 22641,      2,   3914],\n",
       "         [     0,   6342,   3847],\n",
       "         [  3855,    896,   1014],\n",
       "         [ 14097,   2726,     15],\n",
       "         [ 22190,      3,    248],\n",
       "         [ 21916,      0,    136],\n",
       "         [    32,    144,  14826],\n",
       "         [   933,   3504,    143],\n",
       "         [ 32896,   5849,    517],\n",
       "         [ 17106,      0,    551],\n",
       "         [ 36301,      7,   1774],\n",
       "         [ 16517,      8,    845],\n",
       "         [   324,   1069,  93814],\n",
       "         [ 10760,      3,     69],\n",
       "         [   461,  29627,   4395],\n",
       "         [ 10337,   3074,    209],\n",
       "         [   584,   5804,    132],\n",
       "         [   120,  83321,   1111],\n",
       "         [  2569,  10454,   2108],\n",
       "         [     0,    512,  32737],\n",
       "         [ 19804,    742,  70078],\n",
       "         [   302,   1300,   3181],\n",
       "         [ 32865,    199,   7695],\n",
       "         [     0,  22376,      0],\n",
       "         [  3970,    271,    386],\n",
       "         [ 12070,    144,     77],\n",
       "         [     3,   1992,  13028],\n",
       "         [ 18709,  51673,     87],\n",
       "         [  5598,    482,  29136],\n",
       "         [  5844,     15,  27837],\n",
       "         [    32,  48619,      0],\n",
       "         [ 50194,      0,   3241],\n",
       "         [  4510,    579,    151],\n",
       "         [    19,  41560,   4819],\n",
       "         [    44,  60820,   1796],\n",
       "         [   933,      3,   1571],\n",
       "         [   114,   1930,     23],\n",
       "         [   120,   4450,     25],\n",
       "         [  3161,   3668,   2103],\n",
       "         [  3529,     21,   7622],\n",
       "         [  6985,    114,  41821],\n",
       "         [   543,      0,   2108],\n",
       "         [  3145,  95705,     39],\n",
       "         [    23,  18198,    319],\n",
       "         [  3855,    209,  11257],\n",
       "         [ 72592,    144,      0],\n",
       "         [ 11949,   3745,  19775],\n",
       "         [ 21916,     55,     52],\n",
       "         [ 18126,     59,    262],\n",
       "         [   344,  16812,   3579],\n",
       "         [ 67423,  16612,   2099],\n",
       "         [    23,   1360,    386],\n",
       "         [  3855,  67571,     77],\n",
       "         [ 14097,    189,     78],\n",
       "         [ 22190,    213,    375],\n",
       "         [ 21916,   1495,    574],\n",
       "         [    36,   2726,    242],\n",
       "         [ 18126,      3,    136],\n",
       "         [     3,  34232,    255],\n",
       "         [ 16517,    340,   2392],\n",
       "         [   324,     29,  57210],\n",
       "         [    19,    587,   1862],\n",
       "         [    21,     25,     85],\n",
       "         [  1762,    315,  12590],\n",
       "         [ 22641,     73,  39636],\n",
       "         [     0,    181,   5115],\n",
       "         [  2656,    385,    842],\n",
       "         [  2664,  19711,  48229],\n",
       "         [ 32287,     22,   6574],\n",
       "         [     0,   8183,   6124],\n",
       "         [     0,   4701,    151],\n",
       "         [   228,    158,    930],\n",
       "         [   608,     23,    575],\n",
       "         [   114,     15,     25],\n",
       "         [   120,  11834,   1608],\n",
       "         [  2453,      0,    136],\n",
       "         [  1428,   4505,    374],\n",
       "         [     3,   1227,  47378],\n",
       "         [   315,   1629,    254],\n",
       "         [  4627,   2331,    845],\n",
       "         [  1320,   5063,    981],\n",
       "         [ 22190,  10009,     58],\n",
       "         [  8800,   1574,    143],\n",
       "         [     6,     92,   2015],\n",
       "         [   302,    502,    845],\n",
       "         [   990,      2,    192],\n",
       "         [  3855,  29094,   1706],\n",
       "         [  2366,   1382,    341],\n",
       "         [  2083,    475,    459],\n",
       "         [     0,   3790,   1971],\n",
       "         [  3970,  28394,    254],\n",
       "         [ 12070,   1171,    845],\n",
       "         [ 17106,      0,   8210],\n",
       "         [ 20924,   2200,  37217],\n",
       "         [     0,  32747,    845],\n",
       "         [  1911,    196,   6740],\n",
       "         [  1337,   1574,   3467],\n",
       "         [    21,    215,   1704],\n",
       "         [   701,   1487,    323],\n",
       "         [  2557,  11091,      0],\n",
       "         [   271,      6,   1915],\n",
       "         [   173,   1136,    324],\n",
       "         [   608,   3074,     43],\n",
       "         [  6446,   1546,  61821],\n",
       "         [  8800,   2369,   2415],\n",
       "         [  5184,  13150,    254],\n",
       "         [   391,     50,   3847],\n",
       "         [ 26870,     77,   1014],\n",
       "         [     0,  31728,   1860],\n",
       "         [  2744,   6517,     45],\n",
       "         [     9,  19711,   5572],\n",
       "         [    41,      3,   1147],\n",
       "         [  6704,   8825,    279],\n",
       "         [   219,    122,   1228],\n",
       "         [  1147,   1487,     29],\n",
       "         [   430,   1202,      2],\n",
       "         [   459,   2663,    374],\n",
       "         [ 21701,     10,    758],\n",
       "         [ 87852,   5194,    255],\n",
       "         [  3855,  27302,      3],\n",
       "         [   263,  22376,   2164],\n",
       "         [    85,    110,   2572],\n",
       "         [  7303,    188,  11561],\n",
       "         [   849,    162,    845],\n",
       "         [  8201,    520,      0],\n",
       "         [    20,   5804,    845],\n",
       "         [   150,   3871,   5248],\n",
       "         [   915,     89,    254],\n",
       "         [   977,    282,    845],\n",
       "         [   616,    282,      3],\n",
       "         [   205,  22376,   9231],\n",
       "         [    25,   3608,   1985],\n",
       "         [   219,    704,    845],\n",
       "         [  1027,    121,     87],\n",
       "         [  1147,   4772,      5],\n",
       "         [     0,    742,    433],\n",
       "         [  3855,   1300,   3323],\n",
       "         [  2746,    340,   4913],\n",
       "         [   618,    292,   1985],\n",
       "         [  3529,     50,    845],\n",
       "         [  6985,     77,   7672],\n",
       "         [   850,   3697,    845],\n",
       "         [    22,    209,  61058],\n",
       "         [  1295,     51,    845],\n",
       "         [ 75139,   1069,    523],\n",
       "         [   432,   4304,    845],\n",
       "         [  2683,    130,   3551],\n",
       "         [   189,   1320,    845],\n",
       "         [ 79440,  20598,   8407],\n",
       "         [    10,  47011,    845],\n",
       "         [ 16283,     15,  40793],\n",
       "         [   340,      0,    845],\n",
       "         [    36,  32530,  17329],\n",
       "         [     7,      4,    845],\n",
       "         [    13,  18713,  54259],\n",
       "         [ 22641,   3697,    845],\n",
       "         [   422,      3,      3],\n",
       "         [  1027,  83093,   1957],\n",
       "         [ 39513,  37555,    845],\n",
       "         [  8800,    110,     87],\n",
       "         [    23,    209,      5],\n",
       "         [   302,      7,      1],\n",
       "         [  1105,      2,      1],\n",
       "         [   939,      1,      1]]), tensor([ 195,  194,  192]))"
      ]
     },
     "execution_count": 37,
     "metadata": {},
     "output_type": "execute_result"
    }
   ],
   "source": [
    "batch.SentimentText"
   ]
  },
  {
   "cell_type": "code",
   "execution_count": 38,
   "metadata": {},
   "outputs": [
    {
     "data": {
      "text/plain": [
       "{'Sentiment': <torchtext.data.field.Field at 0x3fff5561a5f8>,\n",
       " 'SentimentText': <torchtext.data.field.Field at 0x3fff5561a080>}"
      ]
     },
     "execution_count": 38,
     "metadata": {},
     "output_type": "execute_result"
    }
   ],
   "source": [
    "batch.dataset.fields"
   ]
  },
  {
   "cell_type": "code",
   "execution_count": 39,
   "metadata": {},
   "outputs": [
    {
     "data": {
      "text/plain": [
       "'<pad>'"
      ]
     },
     "execution_count": 39,
     "metadata": {},
     "output_type": "execute_result"
    }
   ],
   "source": [
    "txt_field.vocab.itos[1]"
   ]
  },
  {
   "cell_type": "markdown",
   "metadata": {},
   "source": [
    "##### convert index to string"
   ]
  },
  {
   "cell_type": "markdown",
   "metadata": {},
   "source": [
    "Function to convert batch to text"
   ]
  },
  {
   "cell_type": "code",
   "execution_count": 32,
   "metadata": {},
   "outputs": [],
   "source": [
    "def idxtosent(batch, idx):\n",
    "    return ' '.join([txt_field.vocab.itos[i] for i in batch.SentimentText[0][:,idx].cpu().data.numpy()])"
   ]
  },
  {
   "cell_type": "code",
   "execution_count": 33,
   "metadata": {},
   "outputs": [
    {
     "data": {
      "text/plain": [
       "'भदौ काठमाडौं गोर्खा र धादिङमा मुलुकको विकासको ढोका खोल्ने सय मेगावाटको बुढीगण्डकी जलविद्युत आयोजना बन्दैछ आजसम्म देशभित्र हामीले नदेखेको यति ठूलो आयोजना कस्तो होला हेर्नुहोस् बुढीगण्डकी जलविद्युत आयोजना विकास समितिले तयार पारेको थ्री डी मोडल <unk> छन् आयोजनाका विशेषता <unk> गुणा ठूलो <unk> यो आयोजना निर्माण गर्दा मिटर अग्लो बाँध बाँधिने छ बाँध बाँधेपछि बन्ने ताल पोखराको फेवातालभन्दा गुणा ठूलो हुने आयोजनाका कार्यकारी निर्देशक बस्नेतले जानकारी दिए तालमा पानीको गहिराइ मिटरको हुन्छ यति ठूलो ताल बन्ने भएपछि यसलाई पर्यटकीय क्षेत्रका रुपमा विकास गर्न सकिने उनको भनाइ छ दुई सय किलोमिटरको <unk> विकास समितिले आयोजना प्रभावित क्षेत्रमा रिङरोड बनाउन प्रस्ताव गरेको छ समितिका कार्यकारी निर्देशक बस्नेतका अनुसार अहिले आयोजना प्रभावित क्षेत्रमा सय मिलोमिटर लामो रिङरोड निर्माण गर्न सर्भेक्षणको काम भइरहेको छ रिङरोड धादिङ र गोर्खाका गाविसमा हुनेछ रिङरोड बनिसकेपछि त्यस क्षेत्रको आर्थिक तथा सामाजिक विकासमा ठूलो योगदान पुग्ने उनले बताए विस्थापित परिवारको संख्या <unk> यो आयोजना बन्दा हजार जनसंख्या पूर्णरुपमा विस्थापित हुनेछन् आयोजनाले व्यक्तिको <unk> रहेको हजार रोपनी र बाँकी सरकारी स्वामित्वमा रहेको गरी डेढ लाख रोपनी जमिन ओगट्ने छ एक लाख हजार रोपनी जमीन <unk> आयोजनाबाट गोरखाका र धादिङका गाविसका बासिन्दा प्रभावित हुनेछन् भौतिकरुपमा भने आयोजनाबाट सय घर परिवार र हजार सय जनसंख्या विस्थापित हुनेछन् भने आर्थिकरुपमा सय घर परिवार र हजार जनसंख्या <unk> हुनेछन् आयोजनबाट धादिङको हजार सय रोपनी जमिन र गोरखाको हजार सय रोपनी जमिन डुबानमा पर्नेछ कुल लाख हजार सय रोपनी क्षेत्रफल जमिन डुबानमा पर्ने छ तर सरकारले मुआब्जा वितरण गर्नुपर्ने निजी जमिन भने हजार सय रोपनी रहेको छ गोरखाका घ्यालचोक दरबुङ भुल्मीचोक फुजेल नामजुङ बुङकोट बोरलाङ धावा तान्द्राङ आरुचनौटे आरु आर्बाङ थुमी र धादिङका सलाङ मैदी खरी चैनपुर ज्यामरुङ मारपाक त्रिपुरा अग्निचोक सल्यानटार मुलपानी बुढाथुम र बसेरी गरी गाविसको जमिन प्रभावित हुनेछन् मुआब्जा र पुनस्थापनामा मात्रै अर्बः आयोजनाको वातावरणीय <unk> लागि सरकारले नियुक्ति गरेको फ्रान्सेली परामर्शदाता कम्पनी <unk> जग्गा अधिकरण मुअब्जा वितरण पुनस्थापना तथा पुनर्वासका लागि अर्ब रुपैयाँ लाग्ने प्रतिवेदन वातावरण मन्त्रालय र विकास समितिलाई बुझाइसकेको छ मुआब्जामा मात्रै अर्ब रुपैयाँ लाग्ने प्रारम्भिक अनुमान गरिएको छ जुनसुकै हालतमा भए पनि चालू आर्थिक वर्षमा मुआब्जा वितरणको कार्य सुरु गर्ने बस्नेतले बताए मुआब्जा वितरणको मोडालिटी तयार नभएकाले अहिलेसम्म विकास समितिले जग्गा अधिकरण तथा मुआब्जा वितरण गर्न सकेको छैन आयोजनाले अहिले मुआब्जा वितरणका लागि जग्गाको क्षेत्रफलको यकिन गर्नुका साथै स्वामित्व र जग्गा वर्गीकरणको काम भइरहेको कार्यकारी निर्देशक बस्नेतले जानकारी दिए मुआब्जा वितरणका लागि सरकारले चालू आर्थिक वर्षका लागि अर्ब रुपैयाँ जुटाउने घोषणा गरिसकेको छ सरकारले पेट्रोलियम <unk> आयातमा गर्दा भन्सार <unk> प्रतिलिटर रुपैयाँ पूर्वाधार विकास कर उठाउँदै आएको छ यस्तो करबाट अर्ब रुपैयाँ उठ्ने सरकारको लक्ष्य छ कुल लागत खर्ब अर्बः बुढीगण्डकीमा सरकारले आर्थिक वर्ष मा आयोजनाको विकासका लागि विकास समिति गठन गरेर आयोजनाको काम अघि बढाएको हो हालसम्म विकास समितिले नै आयोजना विकासको गतिविधि अघि बढाइरहेको छ आयोजना निर्माणका लागि चट्टानको अवस्था के छ भनेर विकास समितिले मिटर डि्रलिङ गर्ने लक्ष्य लिएको थियो जसअनुसार <unk> गर्दै जाँदा मिटर डि्रलिङ गरिसकिएको कार्यकारी निर्देशक बस्नेतले जानकारी दिए डि्रलिङ गरेपछि यहाँको ढुंगाको गुणस्तर राम्रो पाइएको छ त्यसैले यो आयोजना संभव छ उनले भने सुरुमा सय मेगावाट बनाउने भनिए पनि अहिले मेगावाट बनाउने गरी क्षमता वृद्धि गरिएको छ विस्तृत परियोजना प्रतिवेदन डीपीआर अनुसार आयोजना बनाउन खर्ब अर्ब रुपैयाँ लाग्नेछ मोडालिटीमा अझै अन्योलअहिलेसम्म कुन मोडालिटीमा बुढीगण्डकी आयोजना निर्माण गर्ने भन्ने टुंगो लागिसकेको छैन यसअघि केपी ओली नेतृत्वको सरकारले स्वदेशी लगानीमै आयोजना निर्माण गर्ने घोषणा गरेको थियो सरकार छाड्ने चाइनिज कम्पनी चाइना <unk> निर्माणको जिम्मा दिने तयारी पनि गरिएको थियो उर्जा मन्त्रालयले आयोजना कुन मोडलमा बनाउने भनेर प्रारम्भिक छलफल भने गरिरहेको छ सरकारले गत फागुनमा सार्वजनिक गरेको विद्युत संकट निवारण तथा विद्युत विकास दशकमा बुढीगण्डकीजस्ता ठूला आयोजनाहरु कम्पनी मोडलमार्फत विकास गर्न सकिने नीतिगत व्यवस्था गरेको छ कम्पनी मोडलबाट विकास गर्नु भनेको सर्वसाधारणबाट पैसा उठाएर उनीहरुलाई सेयर दिनु हो पछिल्लो समय आहृवान गरिएका आइपीओ अत्यधीक बढी आवेदन पर्ने गरेको दृष्टान्तले यो आयोजना सर्वसाधारणबाट रकम उठाएर बनाउन सकिने सम्भावना छ'"
      ]
     },
     "execution_count": 33,
     "metadata": {},
     "output_type": "execute_result"
    }
   ],
   "source": [
    "idxtosent(batch,0)"
   ]
  },
  {
   "cell_type": "code",
   "execution_count": 34,
   "metadata": {},
   "outputs": [],
   "source": [
    "val_batch = next(iter(valdl))"
   ]
  },
  {
   "cell_type": "markdown",
   "metadata": {},
   "source": [
    "##### Note that BucketIterator returns a Batch object instead of text index and labels directly and Batch object is not iterable unlike pytorch Dataloader. A single Batch object contains the data of one batch and the text and labels can be accessed via column names. \n",
    "##### This is one of the small hiccups in torchtext. But this can be easily overcome in two ways. Either write some extra code in the training loop for getting the data out of Batch object or write a iterable wrapper around Batch Object that returns the desired data. I will take the second approach as this is much cleaner."
   ]
  },
  {
   "cell_type": "code",
   "execution_count": 35,
   "metadata": {},
   "outputs": [],
   "source": [
    "class BatchGenerator:\n",
    "    def __init__(self, dl, x_field, y_field):\n",
    "        self.dl, self.x_field, self.y_field = dl, x_field, y_field\n",
    "        \n",
    "    def __len__(self):\n",
    "        return len(self.dl)\n",
    "    \n",
    "    def __iter__(self):\n",
    "        for batch in self.dl:\n",
    "            X = getattr(batch, self.x_field)\n",
    "            y = getattr(batch, self.y_field)\n",
    "            yield (X,y)"
   ]
  },
  {
   "cell_type": "code",
   "execution_count": 36,
   "metadata": {},
   "outputs": [],
   "source": [
    "train_batch_it = BatchGenerator(traindl, 'SentimentText', 'Sentiment')"
   ]
  },
  {
   "cell_type": "markdown",
   "metadata": {},
   "source": [
    "## 5. Finally Model and training"
   ]
  },
  {
   "cell_type": "code",
   "execution_count": 37,
   "metadata": {},
   "outputs": [],
   "source": [
    "vocab_size = len(txt_field.vocab)\n",
    "embedding_dim = 100\n",
    "n_hidden = 64\n",
    "n_out = len(classes)"
   ]
  },
  {
   "cell_type": "markdown",
   "metadata": {},
   "source": [
    "## Simple RNN module"
   ]
  },
  {
   "cell_type": "markdown",
   "metadata": {},
   "source": [
    "#### Simple GRU model"
   ]
  },
  {
   "cell_type": "code",
   "execution_count": 38,
   "metadata": {},
   "outputs": [],
   "source": [
    "class SimpleGRU(nn.Module):\n",
    "    def __init__(self, vocab_size, embedding_dim, n_hidden, n_out, pretrained_vec, bidirectional=True):\n",
    "        super().__init__()\n",
    "        self.vocab_size,self.embedding_dim,self.n_hidden,self.n_out,self.bidirectional = vocab_size, embedding_dim, n_hidden, n_out, bidirectional\n",
    "        self.emb = nn.Embedding(self.vocab_size, self.embedding_dim)\n",
    "        self.emb.weight.data.copy_(pretrained_vec)\n",
    "        self.emb.weight.requires_grad = False\n",
    "        self.gru = nn.GRU(self.embedding_dim, self.n_hidden, bidirectional=bidirectional)\n",
    "        self.out = nn.Linear(self.n_hidden, self.n_out)\n",
    "        \n",
    "    def forward(self, seq, lengths):\n",
    "        bs = seq.size(1) # batch size\n",
    "        seq = seq.transpose(0,1)\n",
    "        self.h = self.init_hidden(bs) # initialize hidden state of GRU\n",
    "        embs = self.emb(seq)\n",
    "        embs = embs.transpose(0,1)\n",
    "        embs = pack_padded_sequence(embs, lengths) # unpad\n",
    "        gru_out, self.h = self.gru(embs, self.h) # gru returns hidden state of all timesteps as well as hidden state at last timestep\n",
    "        gru_out, lengths = pad_packed_sequence(gru_out) # pad the sequence to the max length in the batch\n",
    "        # since it is as classification problem, we will grab the last hidden state\n",
    "        outp = self.out(self.h[-1]) # self.h[-1] contains hidden state of last timestep\n",
    "#         return F.log_softmax(outp, dim=-1)\n",
    "        return F.log_softmax(outp)\n",
    "    \n",
    "    def init_hidden(self, batch_size): \n",
    "        if self.bidirectional:\n",
    "            return torch.zeros((2,batch_size,self.n_hidden)).to(device)\n",
    "        else:\n",
    "            return torch.zeros((1,batch_size,self.n_hidden)).to(device)"
   ]
  },
  {
   "cell_type": "markdown",
   "metadata": {},
   "source": [
    "#### RNN Model"
   ]
  },
  {
   "cell_type": "code",
   "execution_count": 39,
   "metadata": {},
   "outputs": [],
   "source": [
    "class SimpleRNN(nn.Module):\n",
    "    def __init__(self, vocab_size, embedding_dim, n_hidden, n_out, pretrained_vec, bidirectional=True):\n",
    "        super().__init__()\n",
    "        self.vocab_size = vocab_size\n",
    "        self.embedding_dim = embedding_dim\n",
    "        self.n_hidden = n_hidden\n",
    "        self.n_out = n_out\n",
    "        self.bidirectional = bidirectional\n",
    "        self.emb = nn.Embedding(self.vocab_size, self.embedding_dim)\n",
    "        self.emb.weight.data.copy_(pretrained_vec)\n",
    "        self.emb.weight.requires_grad = False\n",
    "        self.rnn = nn.RNN(self.embedding_dim, self.n_hidden, bidirectional=bidirectional)\n",
    "        self.out = nn.Linear(self.n_hidden, self.n_out)\n",
    "        \n",
    "    def forward(self, seq, lengths):\n",
    "        bs = seq.size(1) # batch size\n",
    "        seq = seq.transpose(0,1)\n",
    "        self.h = self.init_hidden(bs) # initialize hidden state of GRU\n",
    "        embs = self.emb(seq)\n",
    "        embs = embs.transpose(0,1)\n",
    "        embs = pack_padded_sequence(embs, lengths) # unpad\n",
    "        rnn_out, self.h = self.rnn(embs, self.h) # gru returns hidden state of all timesteps as well as hidden state at last timestep\n",
    "        rnn_out, lengths = pad_packed_sequence(rnn_out) # pad the sequence to the max length in the batch\n",
    "        # since it is as classification problem, we will grab the last hidden state\n",
    "        outp = self.out(self.h[-1]) # self.h[-1] contains hidden state of last timestep\n",
    "#         return F.log_softmax(outp, dim=-1)\n",
    "        return F.log_softmax(outp)\n",
    "    \n",
    "    def init_hidden(self, batch_size): \n",
    "        if self.bidirectional:\n",
    "            return torch.zeros((2,batch_size,self.n_hidden)).to(device)\n",
    "        else:\n",
    "            return torch.zeros((1,batch_size,self.n_hidden)).to(device)"
   ]
  },
  {
   "cell_type": "markdown",
   "metadata": {},
   "source": [
    "#### LSTM Model"
   ]
  },
  {
   "cell_type": "code",
   "execution_count": 40,
   "metadata": {},
   "outputs": [],
   "source": [
    "class SimpleLSTM(nn.Module):\n",
    "    def __init__(self, vocab_size, embedding_dim, n_hidden, n_out, pretrained_vec, bidirectional=True):\n",
    "        super().__init__()\n",
    "        self.vocab_size = vocab_size\n",
    "        self.embedding_dim = embedding_dim\n",
    "        self.n_hidden = n_hidden\n",
    "        self.n_out = n_out\n",
    "        self.bidirectional = bidirectional\n",
    "        self.emb = nn.Embedding(self.vocab_size, self.embedding_dim)\n",
    "        self.emb.weight.data.copy_(pretrained_vec)\n",
    "        self.emb.weight.requires_grad = False\n",
    "        self.lstm = nn.LSTM(self.embedding_dim, self.n_hidden, bidirectional=bidirectional)\n",
    "        self.out = nn.Linear(self.n_hidden, self.n_out)\n",
    "        \n",
    "    def forward(self, seq, lengths):\n",
    "        bs = seq.size(1) # batch size\n",
    "        seq = seq.transpose(0,1)\n",
    "        self.h = self.init_hidden(bs) # initialize hidden state of GRU\n",
    "        embs = self.emb(seq)\n",
    "        embs = embs.transpose(0,1)\n",
    "        embs = pack_padded_sequence(embs, lengths) # unpad\n",
    "        lstm_out, self.h = self.lstm(embs, self.h) # gru returns hidden state of all timesteps as well as hidden state at last timestep\n",
    "        lstm_out, lengths = pad_packed_sequence(lstm_out) # pad the sequence to the max length in the batch\n",
    "        outp = self.out(self.h[0][-1]) # self.h[-1] contains hidden state of last timestep\n",
    "        return F.log_softmax(outp)\n",
    "        \n",
    "    def init_hidden(self, batch_size): \n",
    "        if self.bidirectional:\n",
    "            h0 = Variable(torch.zeros(2, batch_size, self.n_hidden)).to(device)\n",
    "            c0 = Variable(torch.zeros(2, batch_size, self.n_hidden)).to(device)\n",
    "        else:\n",
    "            h0 = Variable(torch.zeros(1, batch_size, self.n_hidden)).to(device)\n",
    "            c0 = Variable(torch.zeros(1, batch_size, self.n_hidden)).to(device)\n",
    "        return (h0, c0)"
   ]
  },
  {
   "cell_type": "markdown",
   "metadata": {},
   "source": [
    "#### Concat Pooling model"
   ]
  },
  {
   "cell_type": "code",
   "execution_count": 41,
   "metadata": {},
   "outputs": [],
   "source": [
    "class ConcatPoolingGRUAdaptive(nn.Module):\n",
    "    def __init__(self, vocab_size, embedding_dim, n_hidden, n_out, pretrained_vec, bidirectional=True):\n",
    "        super().__init__()\n",
    "        self.vocab_size = vocab_size\n",
    "        self.embedding_dim = embedding_dim\n",
    "        self.n_hidden = n_hidden\n",
    "        self.n_out = n_out\n",
    "        self.bidirectional = bidirectional\n",
    "        \n",
    "        self.emb = nn.Embedding(self.vocab_size, self.embedding_dim)\n",
    "        self.emb.weight.data.copy_(pretrained_vec)\n",
    "        self.emb.weight.requires_grad = False\n",
    "        self.gru = nn.GRU(self.embedding_dim, self.n_hidden, bidirectional=bidirectional)\n",
    "        if bidirectional:\n",
    "            self.out = nn.Linear(self.n_hidden*2*2, self.n_out)\n",
    "        else:\n",
    "            self.out = nn.Linear(self.n_hidden*2, self.n_out)\n",
    "        \n",
    "    def forward(self, seq, lengths):\n",
    "        bs = seq.size(1)\n",
    "        self.h = self.init_hidden(bs)\n",
    "        seq = seq.transpose(0,1)\n",
    "        embs = self.emb(seq)\n",
    "        embs = embs.transpose(0,1)\n",
    "        embs = pack_padded_sequence(embs, lengths)\n",
    "        gru_out, self.h = self.gru(embs, self.h)\n",
    "        gru_out, lengths = pad_packed_sequence(gru_out)        \n",
    "        \n",
    "        avg_pool = F.adaptive_avg_pool1d(gru_out.permute(1,2,0),1).view(bs,-1)\n",
    "        max_pool = F.adaptive_max_pool1d(gru_out.permute(1,2,0),1).view(bs,-1)        \n",
    "        outp = self.out(torch.cat([avg_pool,max_pool],dim=1))\n",
    "        return F.log_softmax(outp)\n",
    "    \n",
    "    def init_hidden(self, batch_size): \n",
    "        if self.bidirectional:\n",
    "            return torch.zeros((2,batch_size,self.n_hidden)).to(device)\n",
    "        else:\n",
    "            return torch.zeros((1,batch_size,self.n_hidden)).cuda().to(device)"
   ]
  },
  {
   "cell_type": "markdown",
   "metadata": {},
   "source": [
    "#### Training function"
   ]
  },
  {
   "cell_type": "code",
   "execution_count": 42,
   "metadata": {},
   "outputs": [],
   "source": [
    "def fit(model, train_dl, val_dl, loss_fn, opt, epochs=3):\n",
    "    total_train_loss = []\n",
    "    total_train_acc = []\n",
    "    total_val_loss = []\n",
    "    total_val_acc = []\n",
    "    num_batch = len(train_dl)\n",
    "    for epoch in tnrange(epochs):      \n",
    "        y_true_train = list()\n",
    "        y_pred_train = list()\n",
    "        total_loss_train = 0          \n",
    "        \n",
    "        t = tqdm_notebook(iter(train_dl), leave=False, total=num_batch)\n",
    "        for (X,lengths),y in t:\n",
    "            t.set_description(f'Epoch {epoch}')\n",
    "            lengths = lengths.cpu().numpy()\n",
    "            \n",
    "            opt.zero_grad()\n",
    "            pred = model(X, lengths)\n",
    "            loss = loss_fn(pred, y)\n",
    "            loss.backward()\n",
    "            opt.step()\n",
    "            \n",
    "            t.set_postfix(loss=loss.item())\n",
    "            pred_idx = torch.max(pred, dim=1)[1]\n",
    "            \n",
    "            y_true_train += list(y.cpu().data.numpy())\n",
    "            y_pred_train += list(pred_idx.cpu().data.numpy())\n",
    "            total_loss_train += loss.item()\n",
    "            \n",
    "        train_acc = accuracy_score(y_true_train, y_pred_train)\n",
    "        train_loss = total_loss_train/len(train_dl)\n",
    "        total_train_loss.append(train_loss)\n",
    "        total_train_acc.append(train_acc)\n",
    "        \n",
    "        if val_dl:\n",
    "            y_true_val = list()\n",
    "            y_pred_val = list()\n",
    "            total_loss_val = 0\n",
    "            for (X,lengths),y in tqdm_notebook(val_dl, leave=False):\n",
    "                pred = model(X, lengths.cpu().numpy())\n",
    "                loss = loss_fn(pred, y)\n",
    "                pred_idx = torch.max(pred, 1)[1]\n",
    "                y_true_val += list(y.cpu().data.numpy())\n",
    "                y_pred_val += list(pred_idx.cpu().data.numpy())\n",
    "                total_loss_val += loss.item()\n",
    "            valacc = accuracy_score(y_true_val, y_pred_val)\n",
    "            valloss = total_loss_val/len(valdl)\n",
    "            print(f'Epoch {epoch}: train_loss: {train_loss:.4f} train_acc: {train_acc:.4f} | val_loss: {valloss:.4f} val_acc: {valacc:.4f}')\n",
    "        else:\n",
    "            print(f'Epoch {epoch}: train_loss: {train_loss:.4f} train_acc: {train_acc:.4f}')\n",
    "        total_val_loss.append(valloss)\n",
    "        total_val_acc.append(valacc)\n",
    "            \n",
    "    return model, total_train_loss, total_train_acc, total_val_loss, total_val_acc"
   ]
  },
  {
   "cell_type": "markdown",
   "metadata": {},
   "source": [
    "##### Dataloader"
   ]
  },
  {
   "cell_type": "code",
   "execution_count": 43,
   "metadata": {},
   "outputs": [],
   "source": [
    "traindl, valdl = data.BucketIterator.splits(datasets=(trainds, valds), \n",
    "                                            batch_sizes=(512,1024), \n",
    "                                            sort_key=lambda x: len(x.SentimentText), \n",
    "                                            device=device, \n",
    "                                            sort_within_batch=True, \n",
    "                                            repeat=False)\n",
    "\n",
    "train_batch_it = BatchGenerator(traindl, 'SentimentText', 'Sentiment')\n",
    "val_batch_it = BatchGenerator(valdl, 'SentimentText', 'Sentiment')"
   ]
  },
  {
   "cell_type": "markdown",
   "metadata": {},
   "source": [
    "#### Plot loss"
   ]
  },
  {
   "cell_type": "code",
   "execution_count": 44,
   "metadata": {},
   "outputs": [],
   "source": [
    "def plot_loss(train_loss, val_loss, title):\n",
    "    plt.figure(figsize=[8,5])\n",
    "    plt.plot(train_loss)\n",
    "    plt.plot(val_loss)\n",
    "    plt.legend(['Training loss', 'Validation loss'])\n",
    "    plt.xlabel('Epochs')\n",
    "    plt.ylabel('Loss')\n",
    "    plt.title(title)\n",
    "    plt.show()"
   ]
  },
  {
   "cell_type": "markdown",
   "metadata": {},
   "source": [
    "#### REVIEW PREDICTION"
   ]
  },
  {
   "cell_type": "code",
   "execution_count": 45,
   "metadata": {},
   "outputs": [],
   "source": [
    "# Testing with random new review\n",
    "review = [\"सत्ताधारी नेपाल कम्युनिस्ट पार्टी (नेकपा) का प्रवक्ताले निकै विवादित बन्न पुगेको एशिया प्यासिफिक सम्मेलन हुने कुरा चल्दा नै आफूले पार्टीभित्र आपत्ति जनाए पनि सुनुवाइ नभएको बताएका छन्।\",\n",
    "         \"आयोजनामा ट्वान्टी–२० क्रिकेट प्रतिगोगिता बुधबारदेखि सुरु भएको छ। महाराजगञ्जस्थित पाकिस्तान दूतावासको क्रिकेट ग्राउन्डमा भएको प्रतियोगिताको काठमाडौं महानगरपालिकाका मेयर विद्यासुन्दर शाक्यले उद्घाटन गरेका थिए।\",\n",
    "         \"बोर्डले यसलाई ऐतिहासिक उपलब्धी भनेको छ। यो संख्या अघिल्लो वर्ष सन् २०१७को भन्दा १७ प्रतिशतले बढी हो। यो तथ्यांकमा अक्टोबर र नोभेम्बरमा पैदलमार्गबाट आएका पर्यटकको संख्या सामेल छैन । यो संख्या पनि जोड्दा जनवरीदेखि नोभेम्बरसम्ममा नै करिब २३ प्रतिशत वृद्धि देखिने बोर्डको आंकलन छ। \"]\n",
    "\n",
    "# Print the prediction of new reviews\n",
    "def print_prediction(review=review, model=None):\n",
    "    for each_review in review:\n",
    "        original_review = each_review\n",
    "        each_review = txt_field.preprocess(each_review)\n",
    "        each_review = [[txt_field.vocab.stoi[x] for x in each_review]]\n",
    "        each_review = np.asarray(each_review)\n",
    "        each_review = Variable(torch.LongTensor(each_review), volatile=True).to(device)\n",
    "        model.eval()\n",
    "        output = model(each_review, torch.ones((len(each_review[0])), dtype=torch.long))\n",
    "        label = torch.argmax(output[0])\n",
    "        print(\"{0}: {1}\\n\".format(original_review, classes[label]))"
   ]
  },
  {
   "cell_type": "markdown",
   "metadata": {},
   "source": [
    "#### LOAD/SAVE MODEL"
   ]
  },
  {
   "cell_type": "code",
   "execution_count": 46,
   "metadata": {},
   "outputs": [],
   "source": [
    "def save_checkpoint(model, train_loss, train_acc, val_loss, val_acc, filename):\n",
    "    save_parameters = {'model': model,\n",
    "                      'train_loss' : train_loss,\n",
    "                      'train_acc' : train_acc,\n",
    "                      'val_loss' : val_loss,\n",
    "                      'val_acc' : val_acc}\n",
    "    torch.save(save_parameters, filename)\n",
    "    \n",
    "    \n",
    "def load_checkpoint(filename):\n",
    "    checkpoint = torch.load(filename)\n",
    "    \n",
    "    model = checkpoint['model']\n",
    "    train_loss = checkpoint['train_loss']\n",
    "    train_acc = checkpoint['train_acc']\n",
    "    val_loss = checkpoint['val_loss']\n",
    "    val_acc = checkpoint['val_acc']\n",
    "    \n",
    "    return model, train_loss, train_acc, val_loss, val_acc"
   ]
  },
  {
   "cell_type": "markdown",
   "metadata": {},
   "source": [
    "#### GRU SECTION"
   ]
  },
  {
   "cell_type": "code",
   "execution_count": 47,
   "metadata": {},
   "outputs": [],
   "source": [
    "gru_model = SimpleGRU(vocab_size, embedding_dim, n_hidden, n_out, trainds.fields['SentimentText'].vocab.vectors).to(device)\n",
    "opt = optim.Adam(filter(lambda p: p.requires_grad, gru_model.parameters()), 1e-3)\n",
    "gru_model_file = './data/models/gru_model.pth'"
   ]
  },
  {
   "cell_type": "code",
   "execution_count": 48,
   "metadata": {},
   "outputs": [],
   "source": [
    "if os.path.exists(gru_model_file):\n",
    "    gru_model, gru_train_loss, gru_train_acc, gru_val_loss, gru_val_acc = load_checkpoint(gru_model_file)\n",
    "else:\n",
    "    gru_model, gru_train_loss, gru_train_acc, gru_val_loss, gru_val_acc = fit(model=gru_model, train_dl=train_batch_it, \n",
    "                                                                       val_dl=val_batch_it, loss_fn=F.nll_loss, \n",
    "                                                                       opt=opt, epochs=40)"
   ]
  },
  {
   "cell_type": "code",
   "execution_count": null,
   "metadata": {},
   "outputs": [],
   "source": []
  },
  {
   "cell_type": "code",
   "execution_count": 49,
   "metadata": {},
   "outputs": [],
   "source": [
    "save_checkpoint(gru_model, gru_train_loss, gru_train_acc, gru_val_loss, gru_val_acc, gru_model_file)"
   ]
  },
  {
   "cell_type": "code",
   "execution_count": 50,
   "metadata": {},
   "outputs": [
    {
     "data": {
      "image/png": "[encoded data removed]",
      "text/plain": [
       "<Figure size 576x360 with 1 Axes>"
      ]
     },
     "metadata": {
      "needs_background": "light"
     },
     "output_type": "display_data"
    }
   ],
   "source": [
    "plot_loss(gru_train_loss, gru_val_loss, title='GRU Model')"
   ]
  },
  {
   "cell_type": "code",
   "execution_count": 51,
   "metadata": {},
   "outputs": [
    {
     "name": "stdout",
     "output_type": "stream",
     "text": [
      "सत्ताधारी नेपाल कम्युनिस्ट पार्टी (नेकपा) का प्रवक्ताले निकै विवादित बन्न पुगेको एशिया प्यासिफिक सम्मेलन हुने कुरा चल्दा नै आफूले पार्टीभित्र आपत्ति जनाए पनि सुनुवाइ नभएको बताएका छन्।: Sports\n",
      "\n",
      "आयोजनामा ट्वान्टी–२० क्रिकेट प्रतिगोगिता बुधबारदेखि सुरु भएको छ। महाराजगञ्जस्थित पाकिस्तान दूतावासको क्रिकेट ग्राउन्डमा भएको प्रतियोगिताको काठमाडौं महानगरपालिकाका मेयर विद्यासुन्दर शाक्यले उद्घाटन गरेका थिए।: Sports\n",
      "\n",
      "बोर्डले यसलाई ऐतिहासिक उपलब्धी भनेको छ। यो संख्या अघिल्लो वर्ष सन् २०१७को भन्दा १७ प्रतिशतले बढी हो। यो तथ्यांकमा अक्टोबर र नोभेम्बरमा पैदलमार्गबाट आएका पर्यटकको संख्या सामेल छैन । यो संख्या पनि जोड्दा जनवरीदेखि नोभेम्बरसम्ममा नै करिब २३ प्रतिशत वृद्धि देखिने बोर्डको आंकलन छ। : Sports\n",
      "\n"
     ]
    }
   ],
   "source": [
    "print_prediction(review=review, model=gru_model)"
   ]
  },
  {
   "cell_type": "code",
   "execution_count": 52,
   "metadata": {},
   "outputs": [
    {
     "name": "stdout",
     "output_type": "stream",
     "text": [
      "GRU Validation accuracy 0.7744218971212836\n"
     ]
    }
   ],
   "source": [
    "print(\"GRU Validation accuracy\", gru_val_acc[-1])"
   ]
  },
  {
   "cell_type": "markdown",
   "metadata": {},
   "source": [
    "#### RNN SECTION"
   ]
  },
  {
   "cell_type": "code",
   "execution_count": 53,
   "metadata": {},
   "outputs": [
    {
     "data": {
      "application/vnd.jupyter.widget-view+json": {
       "model_id": "96241510ee6b4cad8eb3a7811a84ebf1",
       "version_major": 2,
       "version_minor": 0
      },
      "text/plain": [
       "HBox(children=(IntProgress(value=0, max=40), HTML(value='')))"
      ]
     },
     "metadata": {},
     "output_type": "display_data"
    },
    {
     "data": {
      "application/vnd.jupyter.widget-view+json": {
       "model_id": "",
       "version_major": 2,
       "version_minor": 0
      },
      "text/plain": [
       "HBox(children=(IntProgress(value=0, max=17), HTML(value='')))"
      ]
     },
     "metadata": {},
     "output_type": "display_data"
    },
    {
     "data": {
      "application/vnd.jupyter.widget-view+json": {
       "model_id": "",
       "version_major": 2,
       "version_minor": 0
      },
      "text/plain": [
       "HBox(children=(IntProgress(value=0, max=3), HTML(value='')))"
      ]
     },
     "metadata": {},
     "output_type": "display_data"
    },
    {
     "name": "stdout",
     "output_type": "stream",
     "text": [
      "Epoch 0: train_loss: 2.1983 train_acc: 0.4081 | val_loss: 1.9772 val_acc: 0.5262\n"
     ]
    },
    {
     "data": {
      "application/vnd.jupyter.widget-view+json": {
       "model_id": "",
       "version_major": 2,
       "version_minor": 0
      },
      "text/plain": [
       "HBox(children=(IntProgress(value=0, max=17), HTML(value='')))"
      ]
     },
     "metadata": {},
     "output_type": "display_data"
    },
    {
     "data": {
      "application/vnd.jupyter.widget-view+json": {
       "model_id": "",
       "version_major": 2,
       "version_minor": 0
      },
      "text/plain": [
       "HBox(children=(IntProgress(value=0, max=3), HTML(value='')))"
      ]
     },
     "metadata": {},
     "output_type": "display_data"
    },
    {
     "name": "stdout",
     "output_type": "stream",
     "text": [
      "Epoch 1: train_loss: 1.6905 train_acc: 0.5173 | val_loss: 1.9251 val_acc: 0.5286\n"
     ]
    },
    {
     "data": {
      "application/vnd.jupyter.widget-view+json": {
       "model_id": "",
       "version_major": 2,
       "version_minor": 0
      },
      "text/plain": [
       "HBox(children=(IntProgress(value=0, max=17), HTML(value='')))"
      ]
     },
     "metadata": {},
     "output_type": "display_data"
    },
    {
     "data": {
      "application/vnd.jupyter.widget-view+json": {
       "model_id": "",
       "version_major": 2,
       "version_minor": 0
      },
      "text/plain": [
       "HBox(children=(IntProgress(value=0, max=3), HTML(value='')))"
      ]
     },
     "metadata": {},
     "output_type": "display_data"
    },
    {
     "name": "stdout",
     "output_type": "stream",
     "text": [
      "Epoch 2: train_loss: 1.5813 train_acc: 0.5370 | val_loss: 1.9051 val_acc: 0.5569\n"
     ]
    },
    {
     "data": {
      "application/vnd.jupyter.widget-view+json": {
       "model_id": "",
       "version_major": 2,
       "version_minor": 0
      },
      "text/plain": [
       "HBox(children=(IntProgress(value=0, max=17), HTML(value='')))"
      ]
     },
     "metadata": {},
     "output_type": "display_data"
    },
    {
     "data": {
      "application/vnd.jupyter.widget-view+json": {
       "model_id": "",
       "version_major": 2,
       "version_minor": 0
      },
      "text/plain": [
       "HBox(children=(IntProgress(value=0, max=3), HTML(value='')))"
      ]
     },
     "metadata": {},
     "output_type": "display_data"
    },
    {
     "name": "stdout",
     "output_type": "stream",
     "text": [
      "Epoch 3: train_loss: 1.5397 train_acc: 0.5490 | val_loss: 1.8699 val_acc: 0.5687\n"
     ]
    },
    {
     "data": {
      "application/vnd.jupyter.widget-view+json": {
       "model_id": "",
       "version_major": 2,
       "version_minor": 0
      },
      "text/plain": [
       "HBox(children=(IntProgress(value=0, max=17), HTML(value='')))"
      ]
     },
     "metadata": {},
     "output_type": "display_data"
    },
    {
     "data": {
      "application/vnd.jupyter.widget-view+json": {
       "model_id": "",
       "version_major": 2,
       "version_minor": 0
      },
      "text/plain": [
       "HBox(children=(IntProgress(value=0, max=3), HTML(value='')))"
      ]
     },
     "metadata": {},
     "output_type": "display_data"
    },
    {
     "name": "stdout",
     "output_type": "stream",
     "text": [
      "Epoch 4: train_loss: 1.4950 train_acc: 0.5663 | val_loss: 1.8516 val_acc: 0.5757\n"
     ]
    },
    {
     "data": {
      "application/vnd.jupyter.widget-view+json": {
       "model_id": "",
       "version_major": 2,
       "version_minor": 0
      },
      "text/plain": [
       "HBox(children=(IntProgress(value=0, max=17), HTML(value='')))"
      ]
     },
     "metadata": {},
     "output_type": "display_data"
    },
    {
     "data": {
      "application/vnd.jupyter.widget-view+json": {
       "model_id": "",
       "version_major": 2,
       "version_minor": 0
      },
      "text/plain": [
       "HBox(children=(IntProgress(value=0, max=3), HTML(value='')))"
      ]
     },
     "metadata": {},
     "output_type": "display_data"
    },
    {
     "name": "stdout",
     "output_type": "stream",
     "text": [
      "Epoch 5: train_loss: 1.4632 train_acc: 0.5771 | val_loss: 1.8773 val_acc: 0.5724\n"
     ]
    },
    {
     "data": {
      "application/vnd.jupyter.widget-view+json": {
       "model_id": "",
       "version_major": 2,
       "version_minor": 0
      },
      "text/plain": [
       "HBox(children=(IntProgress(value=0, max=17), HTML(value='')))"
      ]
     },
     "metadata": {},
     "output_type": "display_data"
    },
    {
     "data": {
      "application/vnd.jupyter.widget-view+json": {
       "model_id": "",
       "version_major": 2,
       "version_minor": 0
      },
      "text/plain": [
       "HBox(children=(IntProgress(value=0, max=3), HTML(value='')))"
      ]
     },
     "metadata": {},
     "output_type": "display_data"
    },
    {
     "name": "stdout",
     "output_type": "stream",
     "text": [
      "Epoch 6: train_loss: 1.4238 train_acc: 0.5763 | val_loss: 1.8209 val_acc: 0.5913\n"
     ]
    },
    {
     "data": {
      "application/vnd.jupyter.widget-view+json": {
       "model_id": "",
       "version_major": 2,
       "version_minor": 0
      },
      "text/plain": [
       "HBox(children=(IntProgress(value=0, max=17), HTML(value='')))"
      ]
     },
     "metadata": {},
     "output_type": "display_data"
    },
    {
     "data": {
      "application/vnd.jupyter.widget-view+json": {
       "model_id": "",
       "version_major": 2,
       "version_minor": 0
      },
      "text/plain": [
       "HBox(children=(IntProgress(value=0, max=3), HTML(value='')))"
      ]
     },
     "metadata": {},
     "output_type": "display_data"
    },
    {
     "name": "stdout",
     "output_type": "stream",
     "text": [
      "Epoch 7: train_loss: 1.3977 train_acc: 0.5912 | val_loss: 1.7444 val_acc: 0.5989\n"
     ]
    },
    {
     "data": {
      "application/vnd.jupyter.widget-view+json": {
       "model_id": "",
       "version_major": 2,
       "version_minor": 0
      },
      "text/plain": [
       "HBox(children=(IntProgress(value=0, max=17), HTML(value='')))"
      ]
     },
     "metadata": {},
     "output_type": "display_data"
    },
    {
     "data": {
      "application/vnd.jupyter.widget-view+json": {
       "model_id": "",
       "version_major": 2,
       "version_minor": 0
      },
      "text/plain": [
       "HBox(children=(IntProgress(value=0, max=3), HTML(value='')))"
      ]
     },
     "metadata": {},
     "output_type": "display_data"
    },
    {
     "name": "stdout",
     "output_type": "stream",
     "text": [
      "Epoch 8: train_loss: 1.3555 train_acc: 0.5943 | val_loss: 1.7326 val_acc: 0.6069\n"
     ]
    },
    {
     "data": {
      "application/vnd.jupyter.widget-view+json": {
       "model_id": "",
       "version_major": 2,
       "version_minor": 0
      },
      "text/plain": [
       "HBox(children=(IntProgress(value=0, max=17), HTML(value='')))"
      ]
     },
     "metadata": {},
     "output_type": "display_data"
    },
    {
     "data": {
      "application/vnd.jupyter.widget-view+json": {
       "model_id": "",
       "version_major": 2,
       "version_minor": 0
      },
      "text/plain": [
       "HBox(children=(IntProgress(value=0, max=3), HTML(value='')))"
      ]
     },
     "metadata": {},
     "output_type": "display_data"
    },
    {
     "name": "stdout",
     "output_type": "stream",
     "text": [
      "Epoch 9: train_loss: 1.3279 train_acc: 0.6109 | val_loss: 1.6889 val_acc: 0.6196\n"
     ]
    },
    {
     "data": {
      "application/vnd.jupyter.widget-view+json": {
       "model_id": "",
       "version_major": 2,
       "version_minor": 0
      },
      "text/plain": [
       "HBox(children=(IntProgress(value=0, max=17), HTML(value='')))"
      ]
     },
     "metadata": {},
     "output_type": "display_data"
    },
    {
     "data": {
      "application/vnd.jupyter.widget-view+json": {
       "model_id": "",
       "version_major": 2,
       "version_minor": 0
      },
      "text/plain": [
       "HBox(children=(IntProgress(value=0, max=3), HTML(value='')))"
      ]
     },
     "metadata": {},
     "output_type": "display_data"
    },
    {
     "name": "stdout",
     "output_type": "stream",
     "text": [
      "Epoch 10: train_loss: 1.2941 train_acc: 0.6126 | val_loss: 1.7081 val_acc: 0.5965\n"
     ]
    },
    {
     "data": {
      "application/vnd.jupyter.widget-view+json": {
       "model_id": "",
       "version_major": 2,
       "version_minor": 0
      },
      "text/plain": [
       "HBox(children=(IntProgress(value=0, max=17), HTML(value='')))"
      ]
     },
     "metadata": {},
     "output_type": "display_data"
    },
    {
     "data": {
      "application/vnd.jupyter.widget-view+json": {
       "model_id": "",
       "version_major": 2,
       "version_minor": 0
      },
      "text/plain": [
       "HBox(children=(IntProgress(value=0, max=3), HTML(value='')))"
      ]
     },
     "metadata": {},
     "output_type": "display_data"
    },
    {
     "name": "stdout",
     "output_type": "stream",
     "text": [
      "Epoch 11: train_loss: 1.2867 train_acc: 0.6057 | val_loss: 1.6287 val_acc: 0.6253\n"
     ]
    },
    {
     "data": {
      "application/vnd.jupyter.widget-view+json": {
       "model_id": "",
       "version_major": 2,
       "version_minor": 0
      },
      "text/plain": [
       "HBox(children=(IntProgress(value=0, max=17), HTML(value='')))"
      ]
     },
     "metadata": {},
     "output_type": "display_data"
    },
    {
     "data": {
      "application/vnd.jupyter.widget-view+json": {
       "model_id": "",
       "version_major": 2,
       "version_minor": 0
      },
      "text/plain": [
       "HBox(children=(IntProgress(value=0, max=3), HTML(value='')))"
      ]
     },
     "metadata": {},
     "output_type": "display_data"
    },
    {
     "name": "stdout",
     "output_type": "stream",
     "text": [
      "Epoch 12: train_loss: 1.2397 train_acc: 0.6245 | val_loss: 1.5941 val_acc: 0.6310\n"
     ]
    },
    {
     "data": {
      "application/vnd.jupyter.widget-view+json": {
       "model_id": "",
       "version_major": 2,
       "version_minor": 0
      },
      "text/plain": [
       "HBox(children=(IntProgress(value=0, max=17), HTML(value='')))"
      ]
     },
     "metadata": {},
     "output_type": "display_data"
    },
    {
     "data": {
      "application/vnd.jupyter.widget-view+json": {
       "model_id": "",
       "version_major": 2,
       "version_minor": 0
      },
      "text/plain": [
       "HBox(children=(IntProgress(value=0, max=3), HTML(value='')))"
      ]
     },
     "metadata": {},
     "output_type": "display_data"
    },
    {
     "name": "stdout",
     "output_type": "stream",
     "text": [
      "Epoch 13: train_loss: 1.2153 train_acc: 0.6347 | val_loss: 1.5828 val_acc: 0.6343\n"
     ]
    },
    {
     "data": {
      "application/vnd.jupyter.widget-view+json": {
       "model_id": "",
       "version_major": 2,
       "version_minor": 0
      },
      "text/plain": [
       "HBox(children=(IntProgress(value=0, max=17), HTML(value='')))"
      ]
     },
     "metadata": {},
     "output_type": "display_data"
    },
    {
     "data": {
      "application/vnd.jupyter.widget-view+json": {
       "model_id": "",
       "version_major": 2,
       "version_minor": 0
      },
      "text/plain": [
       "HBox(children=(IntProgress(value=0, max=3), HTML(value='')))"
      ]
     },
     "metadata": {},
     "output_type": "display_data"
    },
    {
     "name": "stdout",
     "output_type": "stream",
     "text": [
      "Epoch 14: train_loss: 1.2069 train_acc: 0.6353 | val_loss: 1.6029 val_acc: 0.6418\n"
     ]
    },
    {
     "data": {
      "application/vnd.jupyter.widget-view+json": {
       "model_id": "",
       "version_major": 2,
       "version_minor": 0
      },
      "text/plain": [
       "HBox(children=(IntProgress(value=0, max=17), HTML(value='')))"
      ]
     },
     "metadata": {},
     "output_type": "display_data"
    },
    {
     "data": {
      "application/vnd.jupyter.widget-view+json": {
       "model_id": "",
       "version_major": 2,
       "version_minor": 0
      },
      "text/plain": [
       "HBox(children=(IntProgress(value=0, max=3), HTML(value='')))"
      ]
     },
     "metadata": {},
     "output_type": "display_data"
    },
    {
     "name": "stdout",
     "output_type": "stream",
     "text": [
      "Epoch 15: train_loss: 1.1674 train_acc: 0.6483 | val_loss: 1.5518 val_acc: 0.6479\n"
     ]
    },
    {
     "data": {
      "application/vnd.jupyter.widget-view+json": {
       "model_id": "",
       "version_major": 2,
       "version_minor": 0
      },
      "text/plain": [
       "HBox(children=(IntProgress(value=0, max=17), HTML(value='')))"
      ]
     },
     "metadata": {},
     "output_type": "display_data"
    },
    {
     "data": {
      "application/vnd.jupyter.widget-view+json": {
       "model_id": "",
       "version_major": 2,
       "version_minor": 0
      },
      "text/plain": [
       "HBox(children=(IntProgress(value=0, max=3), HTML(value='')))"
      ]
     },
     "metadata": {},
     "output_type": "display_data"
    },
    {
     "name": "stdout",
     "output_type": "stream",
     "text": [
      "Epoch 16: train_loss: 1.1641 train_acc: 0.6500 | val_loss: 1.5520 val_acc: 0.6319\n"
     ]
    },
    {
     "data": {
      "application/vnd.jupyter.widget-view+json": {
       "model_id": "",
       "version_major": 2,
       "version_minor": 0
      },
      "text/plain": [
       "HBox(children=(IntProgress(value=0, max=17), HTML(value='')))"
      ]
     },
     "metadata": {},
     "output_type": "display_data"
    },
    {
     "data": {
      "application/vnd.jupyter.widget-view+json": {
       "model_id": "",
       "version_major": 2,
       "version_minor": 0
      },
      "text/plain": [
       "HBox(children=(IntProgress(value=0, max=3), HTML(value='')))"
      ]
     },
     "metadata": {},
     "output_type": "display_data"
    },
    {
     "name": "stdout",
     "output_type": "stream",
     "text": [
      "Epoch 17: train_loss: 1.1688 train_acc: 0.6425 | val_loss: 1.5088 val_acc: 0.6527\n"
     ]
    },
    {
     "data": {
      "application/vnd.jupyter.widget-view+json": {
       "model_id": "",
       "version_major": 2,
       "version_minor": 0
      },
      "text/plain": [
       "HBox(children=(IntProgress(value=0, max=17), HTML(value='')))"
      ]
     },
     "metadata": {},
     "output_type": "display_data"
    },
    {
     "data": {
      "application/vnd.jupyter.widget-view+json": {
       "model_id": "",
       "version_major": 2,
       "version_minor": 0
      },
      "text/plain": [
       "HBox(children=(IntProgress(value=0, max=3), HTML(value='')))"
      ]
     },
     "metadata": {},
     "output_type": "display_data"
    },
    {
     "name": "stdout",
     "output_type": "stream",
     "text": [
      "Epoch 18: train_loss: 1.1484 train_acc: 0.6476 | val_loss: 1.5681 val_acc: 0.6479\n"
     ]
    },
    {
     "data": {
      "application/vnd.jupyter.widget-view+json": {
       "model_id": "",
       "version_major": 2,
       "version_minor": 0
      },
      "text/plain": [
       "HBox(children=(IntProgress(value=0, max=17), HTML(value='')))"
      ]
     },
     "metadata": {},
     "output_type": "display_data"
    },
    {
     "data": {
      "application/vnd.jupyter.widget-view+json": {
       "model_id": "",
       "version_major": 2,
       "version_minor": 0
      },
      "text/plain": [
       "HBox(children=(IntProgress(value=0, max=3), HTML(value='')))"
      ]
     },
     "metadata": {},
     "output_type": "display_data"
    },
    {
     "name": "stdout",
     "output_type": "stream",
     "text": [
      "Epoch 19: train_loss: 1.1710 train_acc: 0.6394 | val_loss: 1.5721 val_acc: 0.6159\n"
     ]
    },
    {
     "data": {
      "application/vnd.jupyter.widget-view+json": {
       "model_id": "",
       "version_major": 2,
       "version_minor": 0
      },
      "text/plain": [
       "HBox(children=(IntProgress(value=0, max=17), HTML(value='')))"
      ]
     },
     "metadata": {},
     "output_type": "display_data"
    },
    {
     "data": {
      "application/vnd.jupyter.widget-view+json": {
       "model_id": "",
       "version_major": 2,
       "version_minor": 0
      },
      "text/plain": [
       "HBox(children=(IntProgress(value=0, max=3), HTML(value='')))"
      ]
     },
     "metadata": {},
     "output_type": "display_data"
    },
    {
     "name": "stdout",
     "output_type": "stream",
     "text": [
      "Epoch 20: train_loss: 1.1794 train_acc: 0.6335 | val_loss: 1.4801 val_acc: 0.6536\n"
     ]
    },
    {
     "data": {
      "application/vnd.jupyter.widget-view+json": {
       "model_id": "",
       "version_major": 2,
       "version_minor": 0
      },
      "text/plain": [
       "HBox(children=(IntProgress(value=0, max=17), HTML(value='')))"
      ]
     },
     "metadata": {},
     "output_type": "display_data"
    },
    {
     "data": {
      "application/vnd.jupyter.widget-view+json": {
       "model_id": "",
       "version_major": 2,
       "version_minor": 0
      },
      "text/plain": [
       "HBox(children=(IntProgress(value=0, max=3), HTML(value='')))"
      ]
     },
     "metadata": {},
     "output_type": "display_data"
    },
    {
     "name": "stdout",
     "output_type": "stream",
     "text": [
      "Epoch 21: train_loss: 1.1268 train_acc: 0.6558 | val_loss: 1.4863 val_acc: 0.6654\n"
     ]
    },
    {
     "data": {
      "application/vnd.jupyter.widget-view+json": {
       "model_id": "",
       "version_major": 2,
       "version_minor": 0
      },
      "text/plain": [
       "HBox(children=(IntProgress(value=0, max=17), HTML(value='')))"
      ]
     },
     "metadata": {},
     "output_type": "display_data"
    },
    {
     "data": {
      "application/vnd.jupyter.widget-view+json": {
       "model_id": "",
       "version_major": 2,
       "version_minor": 0
      },
      "text/plain": [
       "HBox(children=(IntProgress(value=0, max=3), HTML(value='')))"
      ]
     },
     "metadata": {},
     "output_type": "display_data"
    },
    {
     "name": "stdout",
     "output_type": "stream",
     "text": [
      "Epoch 22: train_loss: 1.0998 train_acc: 0.6630 | val_loss: 1.5412 val_acc: 0.6579\n"
     ]
    },
    {
     "data": {
      "application/vnd.jupyter.widget-view+json": {
       "model_id": "",
       "version_major": 2,
       "version_minor": 0
      },
      "text/plain": [
       "HBox(children=(IntProgress(value=0, max=17), HTML(value='')))"
      ]
     },
     "metadata": {},
     "output_type": "display_data"
    },
    {
     "data": {
      "application/vnd.jupyter.widget-view+json": {
       "model_id": "",
       "version_major": 2,
       "version_minor": 0
      },
      "text/plain": [
       "HBox(children=(IntProgress(value=0, max=3), HTML(value='')))"
      ]
     },
     "metadata": {},
     "output_type": "display_data"
    },
    {
     "name": "stdout",
     "output_type": "stream",
     "text": [
      "Epoch 23: train_loss: 1.1161 train_acc: 0.6564 | val_loss: 1.4930 val_acc: 0.6588\n"
     ]
    },
    {
     "data": {
      "application/vnd.jupyter.widget-view+json": {
       "model_id": "",
       "version_major": 2,
       "version_minor": 0
      },
      "text/plain": [
       "HBox(children=(IntProgress(value=0, max=17), HTML(value='')))"
      ]
     },
     "metadata": {},
     "output_type": "display_data"
    },
    {
     "data": {
      "application/vnd.jupyter.widget-view+json": {
       "model_id": "",
       "version_major": 2,
       "version_minor": 0
      },
      "text/plain": [
       "HBox(children=(IntProgress(value=0, max=3), HTML(value='')))"
      ]
     },
     "metadata": {},
     "output_type": "display_data"
    },
    {
     "name": "stdout",
     "output_type": "stream",
     "text": [
      "Epoch 24: train_loss: 1.1091 train_acc: 0.6608 | val_loss: 1.4747 val_acc: 0.6630\n"
     ]
    },
    {
     "data": {
      "application/vnd.jupyter.widget-view+json": {
       "model_id": "",
       "version_major": 2,
       "version_minor": 0
      },
      "text/plain": [
       "HBox(children=(IntProgress(value=0, max=17), HTML(value='')))"
      ]
     },
     "metadata": {},
     "output_type": "display_data"
    },
    {
     "data": {
      "application/vnd.jupyter.widget-view+json": {
       "model_id": "",
       "version_major": 2,
       "version_minor": 0
      },
      "text/plain": [
       "HBox(children=(IntProgress(value=0, max=3), HTML(value='')))"
      ]
     },
     "metadata": {},
     "output_type": "display_data"
    },
    {
     "name": "stdout",
     "output_type": "stream",
     "text": [
      "Epoch 25: train_loss: 1.0721 train_acc: 0.6702 | val_loss: 1.4617 val_acc: 0.6692\n"
     ]
    },
    {
     "data": {
      "application/vnd.jupyter.widget-view+json": {
       "model_id": "",
       "version_major": 2,
       "version_minor": 0
      },
      "text/plain": [
       "HBox(children=(IntProgress(value=0, max=17), HTML(value='')))"
      ]
     },
     "metadata": {},
     "output_type": "display_data"
    },
    {
     "data": {
      "application/vnd.jupyter.widget-view+json": {
       "model_id": "",
       "version_major": 2,
       "version_minor": 0
      },
      "text/plain": [
       "HBox(children=(IntProgress(value=0, max=3), HTML(value='')))"
      ]
     },
     "metadata": {},
     "output_type": "display_data"
    },
    {
     "name": "stdout",
     "output_type": "stream",
     "text": [
      "Epoch 26: train_loss: 1.0606 train_acc: 0.6742 | val_loss: 1.4302 val_acc: 0.6673\n"
     ]
    },
    {
     "data": {
      "application/vnd.jupyter.widget-view+json": {
       "model_id": "",
       "version_major": 2,
       "version_minor": 0
      },
      "text/plain": [
       "HBox(children=(IntProgress(value=0, max=17), HTML(value='')))"
      ]
     },
     "metadata": {},
     "output_type": "display_data"
    },
    {
     "data": {
      "application/vnd.jupyter.widget-view+json": {
       "model_id": "",
       "version_major": 2,
       "version_minor": 0
      },
      "text/plain": [
       "HBox(children=(IntProgress(value=0, max=3), HTML(value='')))"
      ]
     },
     "metadata": {},
     "output_type": "display_data"
    },
    {
     "name": "stdout",
     "output_type": "stream",
     "text": [
      "Epoch 27: train_loss: 1.0512 train_acc: 0.6779 | val_loss: 1.4117 val_acc: 0.6645\n"
     ]
    },
    {
     "data": {
      "application/vnd.jupyter.widget-view+json": {
       "model_id": "",
       "version_major": 2,
       "version_minor": 0
      },
      "text/plain": [
       "HBox(children=(IntProgress(value=0, max=17), HTML(value='')))"
      ]
     },
     "metadata": {},
     "output_type": "display_data"
    },
    {
     "data": {
      "application/vnd.jupyter.widget-view+json": {
       "model_id": "",
       "version_major": 2,
       "version_minor": 0
      },
      "text/plain": [
       "HBox(children=(IntProgress(value=0, max=3), HTML(value='')))"
      ]
     },
     "metadata": {},
     "output_type": "display_data"
    },
    {
     "name": "stdout",
     "output_type": "stream",
     "text": [
      "Epoch 28: train_loss: 1.0411 train_acc: 0.6782 | val_loss: 1.4385 val_acc: 0.6706\n"
     ]
    },
    {
     "data": {
      "application/vnd.jupyter.widget-view+json": {
       "model_id": "",
       "version_major": 2,
       "version_minor": 0
      },
      "text/plain": [
       "HBox(children=(IntProgress(value=0, max=17), HTML(value='')))"
      ]
     },
     "metadata": {},
     "output_type": "display_data"
    },
    {
     "data": {
      "application/vnd.jupyter.widget-view+json": {
       "model_id": "",
       "version_major": 2,
       "version_minor": 0
      },
      "text/plain": [
       "HBox(children=(IntProgress(value=0, max=3), HTML(value='')))"
      ]
     },
     "metadata": {},
     "output_type": "display_data"
    },
    {
     "name": "stdout",
     "output_type": "stream",
     "text": [
      "Epoch 29: train_loss: 1.0489 train_acc: 0.6781 | val_loss: 1.4217 val_acc: 0.6730\n"
     ]
    },
    {
     "data": {
      "application/vnd.jupyter.widget-view+json": {
       "model_id": "",
       "version_major": 2,
       "version_minor": 0
      },
      "text/plain": [
       "HBox(children=(IntProgress(value=0, max=17), HTML(value='')))"
      ]
     },
     "metadata": {},
     "output_type": "display_data"
    },
    {
     "data": {
      "application/vnd.jupyter.widget-view+json": {
       "model_id": "",
       "version_major": 2,
       "version_minor": 0
      },
      "text/plain": [
       "HBox(children=(IntProgress(value=0, max=3), HTML(value='')))"
      ]
     },
     "metadata": {},
     "output_type": "display_data"
    },
    {
     "name": "stdout",
     "output_type": "stream",
     "text": [
      "Epoch 30: train_loss: 1.0328 train_acc: 0.6805 | val_loss: 1.4553 val_acc: 0.6739\n"
     ]
    },
    {
     "data": {
      "application/vnd.jupyter.widget-view+json": {
       "model_id": "",
       "version_major": 2,
       "version_minor": 0
      },
      "text/plain": [
       "HBox(children=(IntProgress(value=0, max=17), HTML(value='')))"
      ]
     },
     "metadata": {},
     "output_type": "display_data"
    },
    {
     "data": {
      "application/vnd.jupyter.widget-view+json": {
       "model_id": "",
       "version_major": 2,
       "version_minor": 0
      },
      "text/plain": [
       "HBox(children=(IntProgress(value=0, max=3), HTML(value='')))"
      ]
     },
     "metadata": {},
     "output_type": "display_data"
    },
    {
     "name": "stdout",
     "output_type": "stream",
     "text": [
      "Epoch 31: train_loss: 1.0268 train_acc: 0.6850 | val_loss: 1.4184 val_acc: 0.6489\n"
     ]
    },
    {
     "data": {
      "application/vnd.jupyter.widget-view+json": {
       "model_id": "",
       "version_major": 2,
       "version_minor": 0
      },
      "text/plain": [
       "HBox(children=(IntProgress(value=0, max=17), HTML(value='')))"
      ]
     },
     "metadata": {},
     "output_type": "display_data"
    },
    {
     "data": {
      "application/vnd.jupyter.widget-view+json": {
       "model_id": "",
       "version_major": 2,
       "version_minor": 0
      },
      "text/plain": [
       "HBox(children=(IntProgress(value=0, max=3), HTML(value='')))"
      ]
     },
     "metadata": {},
     "output_type": "display_data"
    },
    {
     "name": "stdout",
     "output_type": "stream",
     "text": [
      "Epoch 32: train_loss: 1.0313 train_acc: 0.6759 | val_loss: 1.4550 val_acc: 0.6687\n"
     ]
    },
    {
     "data": {
      "application/vnd.jupyter.widget-view+json": {
       "model_id": "",
       "version_major": 2,
       "version_minor": 0
      },
      "text/plain": [
       "HBox(children=(IntProgress(value=0, max=17), HTML(value='')))"
      ]
     },
     "metadata": {},
     "output_type": "display_data"
    },
    {
     "data": {
      "application/vnd.jupyter.widget-view+json": {
       "model_id": "",
       "version_major": 2,
       "version_minor": 0
      },
      "text/plain": [
       "HBox(children=(IntProgress(value=0, max=3), HTML(value='')))"
      ]
     },
     "metadata": {},
     "output_type": "display_data"
    },
    {
     "name": "stdout",
     "output_type": "stream",
     "text": [
      "Epoch 33: train_loss: 1.0485 train_acc: 0.6753 | val_loss: 1.4533 val_acc: 0.6767\n"
     ]
    },
    {
     "data": {
      "application/vnd.jupyter.widget-view+json": {
       "model_id": "",
       "version_major": 2,
       "version_minor": 0
      },
      "text/plain": [
       "HBox(children=(IntProgress(value=0, max=17), HTML(value='')))"
      ]
     },
     "metadata": {},
     "output_type": "display_data"
    },
    {
     "data": {
      "application/vnd.jupyter.widget-view+json": {
       "model_id": "",
       "version_major": 2,
       "version_minor": 0
      },
      "text/plain": [
       "HBox(children=(IntProgress(value=0, max=3), HTML(value='')))"
      ]
     },
     "metadata": {},
     "output_type": "display_data"
    },
    {
     "name": "stdout",
     "output_type": "stream",
     "text": [
      "Epoch 34: train_loss: 1.0370 train_acc: 0.6779 | val_loss: 1.4161 val_acc: 0.6777\n"
     ]
    },
    {
     "data": {
      "application/vnd.jupyter.widget-view+json": {
       "model_id": "",
       "version_major": 2,
       "version_minor": 0
      },
      "text/plain": [
       "HBox(children=(IntProgress(value=0, max=17), HTML(value='')))"
      ]
     },
     "metadata": {},
     "output_type": "display_data"
    },
    {
     "data": {
      "application/vnd.jupyter.widget-view+json": {
       "model_id": "",
       "version_major": 2,
       "version_minor": 0
      },
      "text/plain": [
       "HBox(children=(IntProgress(value=0, max=3), HTML(value='')))"
      ]
     },
     "metadata": {},
     "output_type": "display_data"
    },
    {
     "name": "stdout",
     "output_type": "stream",
     "text": [
      "Epoch 35: train_loss: 1.0363 train_acc: 0.6821 | val_loss: 1.4393 val_acc: 0.6767\n"
     ]
    },
    {
     "data": {
      "application/vnd.jupyter.widget-view+json": {
       "model_id": "",
       "version_major": 2,
       "version_minor": 0
      },
      "text/plain": [
       "HBox(children=(IntProgress(value=0, max=17), HTML(value='')))"
      ]
     },
     "metadata": {},
     "output_type": "display_data"
    },
    {
     "data": {
      "application/vnd.jupyter.widget-view+json": {
       "model_id": "",
       "version_major": 2,
       "version_minor": 0
      },
      "text/plain": [
       "HBox(children=(IntProgress(value=0, max=3), HTML(value='')))"
      ]
     },
     "metadata": {},
     "output_type": "display_data"
    },
    {
     "name": "stdout",
     "output_type": "stream",
     "text": [
      "Epoch 36: train_loss: 1.0352 train_acc: 0.6787 | val_loss: 1.4903 val_acc: 0.6357\n"
     ]
    },
    {
     "data": {
      "application/vnd.jupyter.widget-view+json": {
       "model_id": "",
       "version_major": 2,
       "version_minor": 0
      },
      "text/plain": [
       "HBox(children=(IntProgress(value=0, max=17), HTML(value='')))"
      ]
     },
     "metadata": {},
     "output_type": "display_data"
    },
    {
     "data": {
      "application/vnd.jupyter.widget-view+json": {
       "model_id": "",
       "version_major": 2,
       "version_minor": 0
      },
      "text/plain": [
       "HBox(children=(IntProgress(value=0, max=3), HTML(value='')))"
      ]
     },
     "metadata": {},
     "output_type": "display_data"
    },
    {
     "name": "stdout",
     "output_type": "stream",
     "text": [
      "Epoch 37: train_loss: 1.0172 train_acc: 0.6838 | val_loss: 1.3728 val_acc: 0.6805\n"
     ]
    },
    {
     "data": {
      "application/vnd.jupyter.widget-view+json": {
       "model_id": "",
       "version_major": 2,
       "version_minor": 0
      },
      "text/plain": [
       "HBox(children=(IntProgress(value=0, max=17), HTML(value='')))"
      ]
     },
     "metadata": {},
     "output_type": "display_data"
    },
    {
     "data": {
      "application/vnd.jupyter.widget-view+json": {
       "model_id": "",
       "version_major": 2,
       "version_minor": 0
      },
      "text/plain": [
       "HBox(children=(IntProgress(value=0, max=3), HTML(value='')))"
      ]
     },
     "metadata": {},
     "output_type": "display_data"
    },
    {
     "name": "stdout",
     "output_type": "stream",
     "text": [
      "Epoch 38: train_loss: 0.9997 train_acc: 0.6898 | val_loss: 1.3564 val_acc: 0.6673\n"
     ]
    },
    {
     "data": {
      "application/vnd.jupyter.widget-view+json": {
       "model_id": "",
       "version_major": 2,
       "version_minor": 0
      },
      "text/plain": [
       "HBox(children=(IntProgress(value=0, max=17), HTML(value='')))"
      ]
     },
     "metadata": {},
     "output_type": "display_data"
    },
    {
     "data": {
      "application/vnd.jupyter.widget-view+json": {
       "model_id": "",
       "version_major": 2,
       "version_minor": 0
      },
      "text/plain": [
       "HBox(children=(IntProgress(value=0, max=3), HTML(value='')))"
      ]
     },
     "metadata": {},
     "output_type": "display_data"
    },
    {
     "name": "stdout",
     "output_type": "stream",
     "text": [
      "Epoch 39: train_loss: 0.9897 train_acc: 0.6933 | val_loss: 1.3868 val_acc: 0.6819\n",
      "\n"
     ]
    }
   ],
   "source": [
    "rnn_model = SimpleRNN(vocab_size, embedding_dim, n_hidden, n_out, trainds.fields['SentimentText'].vocab.vectors).to(device)\n",
    "opt = optim.Adam(filter(lambda p: p.requires_grad, rnn_model.parameters()), 1e-3)\n",
    "\n",
    "rnn_model_file = './data/models/rnn_model.pth'\n",
    "\n",
    "if os.path.exists(rnn_model_file):\n",
    "    rnn_model, rnn_train_loss, rnn_train_acc, rnn_val_loss, rnn_val_acc = load_checkpoint(rnn_model_file)\n",
    "else:\n",
    "    rnn_model, rnn_train_loss, rnn_train_acc, rnn_val_loss, rnn_val_acc = fit(model=rnn_model, train_dl=train_batch_it, val_dl=val_batch_it, loss_fn=F.nll_loss, opt=opt, epochs=40)"
   ]
  },
  {
   "cell_type": "code",
   "execution_count": 54,
   "metadata": {},
   "outputs": [],
   "source": [
    "save_checkpoint(rnn_model, rnn_train_loss, rnn_train_acc, rnn_val_loss, rnn_val_acc, rnn_model_file)"
   ]
  },
  {
   "cell_type": "code",
   "execution_count": 55,
   "metadata": {},
   "outputs": [
    {
     "data": {
      "image/png": "[encoded data removed]",
      "text/plain": [
       "<Figure size 576x360 with 1 Axes>"
      ]
     },
     "metadata": {
      "needs_background": "light"
     },
     "output_type": "display_data"
    }
   ],
   "source": [
    "plot_loss(rnn_train_loss, rnn_val_loss, title='RNN Model')"
   ]
  },
  {
   "cell_type": "code",
   "execution_count": 56,
   "metadata": {},
   "outputs": [
    {
     "name": "stdout",
     "output_type": "stream",
     "text": [
      "RNN Validation accuracy 0.6819254365266635\n"
     ]
    }
   ],
   "source": [
    "print(\"RNN Validation accuracy\", rnn_val_acc[-1])"
   ]
  },
  {
   "cell_type": "code",
   "execution_count": 57,
   "metadata": {},
   "outputs": [
    {
     "name": "stdout",
     "output_type": "stream",
     "text": [
      "सत्ताधारी नेपाल कम्युनिस्ट पार्टी (नेकपा) का प्रवक्ताले निकै विवादित बन्न पुगेको एशिया प्यासिफिक सम्मेलन हुने कुरा चल्दा नै आफूले पार्टीभित्र आपत्ति जनाए पनि सुनुवाइ नभएको बताएका छन्।: Sports\n",
      "\n",
      "आयोजनामा ट्वान्टी–२० क्रिकेट प्रतिगोगिता बुधबारदेखि सुरु भएको छ। महाराजगञ्जस्थित पाकिस्तान दूतावासको क्रिकेट ग्राउन्डमा भएको प्रतियोगिताको काठमाडौं महानगरपालिकाका मेयर विद्यासुन्दर शाक्यले उद्घाटन गरेका थिए।: Sports\n",
      "\n",
      "बोर्डले यसलाई ऐतिहासिक उपलब्धी भनेको छ। यो संख्या अघिल्लो वर्ष सन् २०१७को भन्दा १७ प्रतिशतले बढी हो। यो तथ्यांकमा अक्टोबर र नोभेम्बरमा पैदलमार्गबाट आएका पर्यटकको संख्या सामेल छैन । यो संख्या पनि जोड्दा जनवरीदेखि नोभेम्बरसम्ममा नै करिब २३ प्रतिशत वृद्धि देखिने बोर्डको आंकलन छ। : Sports\n",
      "\n"
     ]
    }
   ],
   "source": [
    "print_prediction(model=rnn_model)"
   ]
  },
  {
   "cell_type": "markdown",
   "metadata": {},
   "source": [
    "#### ConcatPoolingGRUAdaptive Section"
   ]
  },
  {
   "cell_type": "code",
   "execution_count": 58,
   "metadata": {},
   "outputs": [],
   "source": [
    "gru_a_model = ConcatPoolingGRUAdaptive(vocab_size, embedding_dim, n_hidden, n_out, trainds.fields['SentimentText'].vocab.vectors).to(device)\n",
    "opt = optim.Adam(filter(lambda p: p.requires_grad, gru_a_model.parameters()), 1e-3)\n",
    "\n",
    "gru_a_model_file = './data/models/gru_a_model.pth'\n",
    "\n",
    "if os.path.exists(gru_a_model_file):\n",
    "    gru_a_model, gru_a_train_loss, gru_a_train_acc, gru_a_val_loss, gru_a_val_acc = load_checkpoint(gru_a_model_file)\n",
    "else:\n",
    "    gru_a_model, gru_a_train_loss, gru_a_train_acc, gru_a_val_loss, gru_a_val_acc = fit(model=gru_a_model, train_dl=train_batch_it, val_dl=val_batch_it, loss_fn=F.nll_loss, opt=opt, epochs=40)"
   ]
  },
  {
   "cell_type": "code",
   "execution_count": 59,
   "metadata": {},
   "outputs": [],
   "source": [
    "save_checkpoint(gru_a_model, gru_a_train_loss, gru_a_train_acc, gru_a_val_loss, gru_a_val_acc, gru_a_model_file)"
   ]
  },
  {
   "cell_type": "code",
   "execution_count": 60,
   "metadata": {},
   "outputs": [
    {
     "data": {
      "image/png": "[encoded data removed]",
      "text/plain": [
       "<Figure size 576x360 with 1 Axes>"
      ]
     },
     "metadata": {
      "needs_background": "light"
     },
     "output_type": "display_data"
    }
   ],
   "source": [
    "plot_loss(gru_a_train_loss, gru_a_val_loss, title='ConcatPoolingGRUAdaptive Model')"
   ]
  },
  {
   "cell_type": "code",
   "execution_count": 61,
   "metadata": {},
   "outputs": [
    {
     "name": "stdout",
     "output_type": "stream",
     "text": [
      "सत्ताधारी नेपाल कम्युनिस्ट पार्टी (नेकपा) का प्रवक्ताले निकै विवादित बन्न पुगेको एशिया प्यासिफिक सम्मेलन हुने कुरा चल्दा नै आफूले पार्टीभित्र आपत्ति जनाए पनि सुनुवाइ नभएको बताएका छन्।: Sports\n",
      "\n",
      "आयोजनामा ट्वान्टी–२० क्रिकेट प्रतिगोगिता बुधबारदेखि सुरु भएको छ। महाराजगञ्जस्थित पाकिस्तान दूतावासको क्रिकेट ग्राउन्डमा भएको प्रतियोगिताको काठमाडौं महानगरपालिकाका मेयर विद्यासुन्दर शाक्यले उद्घाटन गरेका थिए।: Bank\n",
      "\n",
      "बोर्डले यसलाई ऐतिहासिक उपलब्धी भनेको छ। यो संख्या अघिल्लो वर्ष सन् २०१७को भन्दा १७ प्रतिशतले बढी हो। यो तथ्यांकमा अक्टोबर र नोभेम्बरमा पैदलमार्गबाट आएका पर्यटकको संख्या सामेल छैन । यो संख्या पनि जोड्दा जनवरीदेखि नोभेम्बरसम्ममा नै करिब २३ प्रतिशत वृद्धि देखिने बोर्डको आंकलन छ। : Bank\n",
      "\n"
     ]
    }
   ],
   "source": [
    "print_prediction(model=gru_a_model)"
   ]
  },
  {
   "cell_type": "code",
   "execution_count": 62,
   "metadata": {},
   "outputs": [
    {
     "name": "stdout",
     "output_type": "stream",
     "text": [
      "ConcatPoolingGRUAdaptive Validation accuracy 0.729589428975932\n"
     ]
    }
   ],
   "source": [
    "print(\"ConcatPoolingGRUAdaptive Validation accuracy\", gru_a_val_acc[-1])"
   ]
  },
  {
   "cell_type": "markdown",
   "metadata": {},
   "source": [
    "#### LSTM SECTION"
   ]
  },
  {
   "cell_type": "code",
   "execution_count": 64,
   "metadata": {},
   "outputs": [],
   "source": [
    "lstm_model = SimpleLSTM(vocab_size, embedding_dim, n_hidden, n_out, trainds.fields['SentimentText'].vocab.vectors).to(device)\n",
    "opt = optim.Adam(filter(lambda p: p.requires_grad, lstm_model.parameters()), 1e-3)\n",
    "lstm_model_file = './data/models/lstm_model.pth'\n",
    "\n",
    "if os.path.exists(lstm_model_file):\n",
    "    lstm_model, lstm_train_loss, lstm_train_acc, lstm_val_loss, lstm_val_acc = load_checkpoint(lstm_model_file)\n",
    "else:\n",
    "    lstm_model, lstm_train_loss, lstm_train_acc, lstm_val_loss, lstm_val_acc = fit(model=lstm_model, train_dl=train_batch_it, val_dl=val_batch_it, loss_fn=F.nll_loss, opt=opt, epochs=40)"
   ]
  },
  {
   "cell_type": "code",
   "execution_count": 65,
   "metadata": {},
   "outputs": [],
   "source": [
    "save_checkpoint(lstm_model, lstm_train_loss, lstm_train_acc, lstm_val_loss, lstm_val_acc, lstm_model_file)"
   ]
  },
  {
   "cell_type": "code",
   "execution_count": 66,
   "metadata": {},
   "outputs": [
    {
     "data": {
      "image/png": "[encoded data removed]",
      "text/plain": [
       "<Figure size 576x360 with 1 Axes>"
      ]
     },
     "metadata": {
      "needs_background": "light"
     },
     "output_type": "display_data"
    }
   ],
   "source": [
    "plot_loss(lstm_train_loss, lstm_val_loss, title='LSTM Model')"
   ]
  },
  {
   "cell_type": "code",
   "execution_count": 67,
   "metadata": {},
   "outputs": [
    {
     "name": "stdout",
     "output_type": "stream",
     "text": [
      "मेक्सिकोबाट बाबु र अरु दर्जनौं व्यक्तिसँगै गैरकानुनी रुपमा अमेरिका प्रवेश गरेकी ती बालिकाको शरीरमा पानीको मात्रा कम हुने समस्याबाट मृत्यु भएको अमेरिकी भन्सार तथा सीमा सुरक्षा निकायले जनाएको छ । उक्त निकायले ती बालिकाले धेरै दिनदेखि केही नखाएको र पानी समेत नपिएको बताएको छ । पक्राउ परेलगत्तै त्रसित मुद्रामा देखिएकी ती बालिकामा एकाएक काँप्ने समस्या देखिएको, र उपचारका लागि स्थानीय अस्पतालमा पुर्‍याएलगत्तै मृत्यु भएको सीमा सुरक्षा निकायले जनाएको छ । राष्ट्रपति डोनाल्ड ट्रम्पले मेक्सिकोबाट अमेरिका प्रवेश गर्न खोज्ने व्यक्तिलाई अवैध आप्रवासीको संज्ञा दिँदै उनीहरुलाई अमेरिका प्रवेश गरेमा पक्राउ गरी फर्काइदिने चेतावनी दिएका छन् । उनले हजारौं अमेरिकी सुरक्षा फौजलाई मेक्सिकोसँगको सीमामा तैनाथ गरेका छन् । : National News\n",
      "\n"
     ]
    }
   ],
   "source": [
    "new_review = [\"मेक्सिकोबाट बाबु र अरु दर्जनौं व्यक्तिसँगै गैरकानुनी रुपमा अमेरिका प्रवेश गरेकी ती बालिकाको शरीरमा पानीको मात्रा कम हुने समस्याबाट मृत्यु भएको अमेरिकी भन्सार तथा सीमा सुरक्षा निकायले जनाएको छ । उक्त निकायले ती बालिकाले धेरै दिनदेखि केही नखाएको र पानी समेत नपिएको बताएको छ । पक्राउ परेलगत्तै त्रसित मुद्रामा देखिएकी ती बालिकामा एकाएक काँप्ने समस्या देखिएको, र उपचारका लागि स्थानीय अस्पतालमा पुर्‍याएलगत्तै मृत्यु भएको सीमा सुरक्षा निकायले जनाएको छ । राष्ट्रपति डोनाल्ड ट्रम्पले मेक्सिकोबाट अमेरिका प्रवेश गर्न खोज्ने व्यक्तिलाई अवैध आप्रवासीको संज्ञा दिँदै उनीहरुलाई अमेरिका प्रवेश गरेमा पक्राउ गरी फर्काइदिने चेतावनी दिएका छन् । उनले हजारौं अमेरिकी सुरक्षा फौजलाई मेक्सिकोसँगको सीमामा तैनाथ गरेका छन् । \"]\n",
    "\n",
    "print_prediction(review = new_review, model=lstm_model)"
   ]
  },
  {
   "cell_type": "code",
   "execution_count": 68,
   "metadata": {},
   "outputs": [
    {
     "name": "stdout",
     "output_type": "stream",
     "text": [
      "LSTM Validation accuracy 0.7663992449268523\n"
     ]
    }
   ],
   "source": [
    "print(\"LSTM Validation accuracy\", lstm_val_acc[-1])"
   ]
  },
  {
   "cell_type": "code",
   "execution_count": null,
   "metadata": {},
   "outputs": [],
   "source": []
  }
 ],
 "metadata": {
  "kernelspec": {
   "display_name": "Python 3",
   "language": "python",
   "name": "python3"
  },
  "language_info": {
   "codemirror_mode": {
    "name": "ipython",
    "version": 3
   },
   "file_extension": ".py",
   "mimetype": "text/x-python",
   "name": "python",
   "nbconvert_exporter": "python",
   "pygments_lexer": "ipython3",
   "version": "3.6.7"
  }
 },
 "nbformat": 4,
 "nbformat_minor": 2
}
